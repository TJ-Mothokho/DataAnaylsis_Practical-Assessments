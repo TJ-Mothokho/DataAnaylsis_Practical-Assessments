{
 "cells": [
  {
   "cell_type": "code",
   "execution_count": 1068,
   "metadata": {},
   "outputs": [],
   "source": [
    "import pandas as pd\n",
    "import seaborn as sns\n",
    "import matplotlib.pyplot as plt"
   ]
  },
  {
   "cell_type": "code",
   "execution_count": 1069,
   "metadata": {},
   "outputs": [
    {
     "name": "stderr",
     "output_type": "stream",
     "text": [
      "c:\\Users\\TSHIAMO\\anaconda3\\lib\\site-packages\\IPython\\core\\interactiveshell.py:3444: DtypeWarning: Columns (0,11,12) have mixed types.Specify dtype option on import or set low_memory=False.\n",
      "  exec(code_obj, self.user_global_ns, self.user_ns)\n"
     ]
    },
    {
     "data": {
      "text/html": [
       "<div>\n",
       "<style scoped>\n",
       "    .dataframe tbody tr th:only-of-type {\n",
       "        vertical-align: middle;\n",
       "    }\n",
       "\n",
       "    .dataframe tbody tr th {\n",
       "        vertical-align: top;\n",
       "    }\n",
       "\n",
       "    .dataframe thead th {\n",
       "        text-align: right;\n",
       "    }\n",
       "</style>\n",
       "<table border=\"1\" class=\"dataframe\">\n",
       "  <thead>\n",
       "    <tr style=\"text-align: right;\">\n",
       "      <th></th>\n",
       "      <th>Claim Number</th>\n",
       "      <th>Date Received</th>\n",
       "      <th>Incident Date</th>\n",
       "      <th>Airport Code</th>\n",
       "      <th>Airport Name</th>\n",
       "      <th>Airline Name</th>\n",
       "      <th>Claim Type</th>\n",
       "      <th>Claim Site</th>\n",
       "      <th>Item</th>\n",
       "      <th>Claim Amount</th>\n",
       "      <th>Status</th>\n",
       "      <th>Close Amount</th>\n",
       "      <th>Disposition</th>\n",
       "    </tr>\n",
       "  </thead>\n",
       "  <tbody>\n",
       "    <tr>\n",
       "      <th>0</th>\n",
       "      <td>0909802M</td>\n",
       "      <td>4-Jan-02</td>\n",
       "      <td>12/12/2002 0:00</td>\n",
       "      <td>EWR</td>\n",
       "      <td>Newark International Airport</td>\n",
       "      <td>Continental Airlines</td>\n",
       "      <td>Property Damage</td>\n",
       "      <td>Checkpoint</td>\n",
       "      <td>Other</td>\n",
       "      <td>$350.00</td>\n",
       "      <td>Approved</td>\n",
       "      <td>$350.00</td>\n",
       "      <td>Approve in Full</td>\n",
       "    </tr>\n",
       "    <tr>\n",
       "      <th>1</th>\n",
       "      <td>0202417M</td>\n",
       "      <td>2-Feb-02</td>\n",
       "      <td>1/16/2004 0:00</td>\n",
       "      <td>SEA</td>\n",
       "      <td>Seattle-Tacoma International</td>\n",
       "      <td>NaN</td>\n",
       "      <td>Property Damage</td>\n",
       "      <td>Checked Baggage</td>\n",
       "      <td>Luggage (all types including footlockers)</td>\n",
       "      <td>$100.00</td>\n",
       "      <td>Settled</td>\n",
       "      <td>$50.00</td>\n",
       "      <td>Settle</td>\n",
       "    </tr>\n",
       "    <tr>\n",
       "      <th>2</th>\n",
       "      <td>0202445M</td>\n",
       "      <td>4-Feb-02</td>\n",
       "      <td>11/26/2003 0:00</td>\n",
       "      <td>STL</td>\n",
       "      <td>Lambert St. Louis International</td>\n",
       "      <td>American Airlines</td>\n",
       "      <td>Property Damage</td>\n",
       "      <td>Checked Baggage</td>\n",
       "      <td>Cell Phones</td>\n",
       "      <td>$278.88</td>\n",
       "      <td>Settled</td>\n",
       "      <td>$227.92</td>\n",
       "      <td>Settle</td>\n",
       "    </tr>\n",
       "    <tr>\n",
       "      <th>3</th>\n",
       "      <td>0909816M</td>\n",
       "      <td>7-Feb-02</td>\n",
       "      <td>1/6/2003 0:00</td>\n",
       "      <td>MIA</td>\n",
       "      <td>Miami International Airport</td>\n",
       "      <td>American Airlines</td>\n",
       "      <td>Property Damage</td>\n",
       "      <td>Checkpoint</td>\n",
       "      <td>Luggage (all types including footlockers)</td>\n",
       "      <td>$50.00</td>\n",
       "      <td>Approved</td>\n",
       "      <td>$50.00</td>\n",
       "      <td>Approve in Full</td>\n",
       "    </tr>\n",
       "    <tr>\n",
       "      <th>4</th>\n",
       "      <td>2005032379513</td>\n",
       "      <td>18-Feb-02</td>\n",
       "      <td>2/5/2005 0:00</td>\n",
       "      <td>MCO</td>\n",
       "      <td>Orlando International Airport</td>\n",
       "      <td>Delta (Song)</td>\n",
       "      <td>Property Damage</td>\n",
       "      <td>Checkpoint</td>\n",
       "      <td>Baby - Strollers; car seats; playpen; etc.</td>\n",
       "      <td>$84.79</td>\n",
       "      <td>Approved</td>\n",
       "      <td>$84.79</td>\n",
       "      <td>Approve in Full</td>\n",
       "    </tr>\n",
       "  </tbody>\n",
       "</table>\n",
       "</div>"
      ],
      "text/plain": [
       "    Claim Number Date Received    Incident Date Airport Code  \\\n",
       "0       0909802M      4-Jan-02  12/12/2002 0:00          EWR   \n",
       "1       0202417M      2-Feb-02   1/16/2004 0:00          SEA   \n",
       "2       0202445M      4-Feb-02  11/26/2003 0:00          STL   \n",
       "3       0909816M      7-Feb-02    1/6/2003 0:00          MIA   \n",
       "4  2005032379513     18-Feb-02    2/5/2005 0:00          MCO   \n",
       "\n",
       "                      Airport Name          Airline Name       Claim Type  \\\n",
       "0     Newark International Airport  Continental Airlines  Property Damage   \n",
       "1     Seattle-Tacoma International                   NaN  Property Damage   \n",
       "2  Lambert St. Louis International     American Airlines  Property Damage   \n",
       "3      Miami International Airport     American Airlines  Property Damage   \n",
       "4    Orlando International Airport          Delta (Song)  Property Damage   \n",
       "\n",
       "        Claim Site                                        Item Claim Amount  \\\n",
       "0       Checkpoint                                       Other     $350.00    \n",
       "1  Checked Baggage   Luggage (all types including footlockers)     $100.00    \n",
       "2  Checked Baggage                                 Cell Phones     $278.88    \n",
       "3       Checkpoint   Luggage (all types including footlockers)      $50.00    \n",
       "4       Checkpoint  Baby - Strollers; car seats; playpen; etc.      $84.79    \n",
       "\n",
       "     Status Close Amount      Disposition  \n",
       "0  Approved     $350.00   Approve in Full  \n",
       "1   Settled      $50.00            Settle  \n",
       "2   Settled     $227.92            Settle  \n",
       "3  Approved      $50.00   Approve in Full  \n",
       "4  Approved      $84.79   Approve in Full  "
      ]
     },
     "execution_count": 1069,
     "metadata": {},
     "output_type": "execute_result"
    }
   ],
   "source": [
    "claims = pd.read_csv(r'./Assessment 1 Data Files/tsa_claims2.csv')\n",
    "claims.head()"
   ]
  },
  {
   "cell_type": "markdown",
   "metadata": {},
   "source": [
    "# Examine the data"
   ]
  },
  {
   "cell_type": "code",
   "execution_count": 1070,
   "metadata": {},
   "outputs": [
    {
     "name": "stdout",
     "output_type": "stream",
     "text": [
      "<class 'pandas.core.frame.DataFrame'>\n",
      "RangeIndex: 204267 entries, 0 to 204266\n",
      "Data columns (total 13 columns):\n",
      " #   Column         Non-Null Count   Dtype \n",
      "---  ------         --------------   ----- \n",
      " 0   Claim Number   204267 non-null  object\n",
      " 1   Date Received  204004 non-null  object\n",
      " 2   Incident Date  202084 non-null  object\n",
      " 3   Airport Code   195743 non-null  object\n",
      " 4   Airport Name   195743 non-null  object\n",
      " 5   Airline Name   169893 non-null  object\n",
      " 6   Claim Type     196354 non-null  object\n",
      " 7   Claim Site     203527 non-null  object\n",
      " 8   Item           200301 non-null  object\n",
      " 9   Claim Amount   200224 non-null  object\n",
      " 10  Status         204262 non-null  object\n",
      " 11  Close Amount   135315 non-null  object\n",
      " 12  Disposition    131359 non-null  object\n",
      "dtypes: object(13)\n",
      "memory usage: 170.3 MB\n"
     ]
    }
   ],
   "source": [
    "claims.info(memory_usage='deep')"
   ]
  },
  {
   "cell_type": "code",
   "execution_count": 1071,
   "metadata": {},
   "outputs": [
    {
     "data": {
      "text/plain": [
       "Claim Number     204258\n",
       "Date Received      4008\n",
       "Incident Date     26808\n",
       "Airport Code        466\n",
       "Airport Name        486\n",
       "Airline Name        319\n",
       "Claim Type           12\n",
       "Claim Site            7\n",
       "Item               4705\n",
       "Claim Amount      36118\n",
       "Status               16\n",
       "Close Amount      17163\n",
       "Disposition           4\n",
       "dtype: int64"
      ]
     },
     "execution_count": 1071,
     "metadata": {},
     "output_type": "execute_result"
    }
   ],
   "source": [
    "claims.nunique(dropna=False)"
   ]
  },
  {
   "cell_type": "code",
   "execution_count": 1072,
   "metadata": {},
   "outputs": [
    {
     "data": {
      "text/plain": [
       "Claim Number     [0909802M, 0202417M, 0202445M, 0909816M, 20050...\n",
       "Date Received    [4-Jan-02, 2-Feb-02, 4-Feb-02, 7-Feb-02, 18-Fe...\n",
       "Incident Date    [12/12/2002 0:00, 1/16/2004 0:00, 11/26/2003 0...\n",
       "Airport Code     [EWR, SEA, STL, MIA, MCO, CAK, PHL, BWI, PHX, ...\n",
       "Airport Name     [Newark International Airport, Seattle-Tacoma ...\n",
       "Airline Name     [Continental Airlines, nan, American Airlines,...\n",
       "Claim Type       [Property Damage, Passenger Property Loss, nan...\n",
       "Claim Site       [Checkpoint, Checked Baggage, Other, Motor Veh...\n",
       "Item             [Other, Luggage (all types including footlocke...\n",
       "Claim Amount     [$350.00 , $100.00 , $278.88 , $50.00 , $84.79...\n",
       "Status           [Approved, Settled, Canceled, Denied, Insuffic...\n",
       "Close Amount     [$350.00 , $50.00 , $227.92 , $84.79 , $227.00...\n",
       "Disposition                   [Approve in Full, Settle, nan, Deny]\n",
       "dtype: object"
      ]
     },
     "execution_count": 1072,
     "metadata": {},
     "output_type": "execute_result"
    }
   ],
   "source": [
    "claims.apply(pd.unique)"
   ]
  },
  {
   "cell_type": "markdown",
   "metadata": {},
   "source": [
    "# Cleaning the Data"
   ]
  },
  {
   "cell_type": "markdown",
   "metadata": {},
   "source": [
    "#### Dates"
   ]
  },
  {
   "cell_type": "code",
   "execution_count": 1073,
   "metadata": {},
   "outputs": [
    {
     "name": "stdout",
     "output_type": "stream",
     "text": [
      "<class 'pandas.core.frame.DataFrame'>\n",
      "RangeIndex: 204267 entries, 0 to 204266\n",
      "Data columns (total 2 columns):\n",
      " #   Column         Non-Null Count   Dtype         \n",
      "---  ------         --------------   -----         \n",
      " 0   Incident Date  201920 non-null  datetime64[ns]\n",
      " 1   Date Received  204004 non-null  datetime64[ns]\n",
      "dtypes: datetime64[ns](2)\n",
      "memory usage: 3.1 MB\n"
     ]
    }
   ],
   "source": [
    "# Changing Date columns to DateTime data type\n",
    "date_cols = ['Incident Date', 'Date Received']\n",
    "claims[date_cols] = claims[date_cols].apply(pd.to_datetime, errors='coerce')\n",
    "claims[date_cols].info()"
   ]
  },
  {
   "cell_type": "markdown",
   "metadata": {},
   "source": [
    "#### Columns"
   ]
  },
  {
   "cell_type": "code",
   "execution_count": 1074,
   "metadata": {},
   "outputs": [
    {
     "data": {
      "text/html": [
       "<div>\n",
       "<style scoped>\n",
       "    .dataframe tbody tr th:only-of-type {\n",
       "        vertical-align: middle;\n",
       "    }\n",
       "\n",
       "    .dataframe tbody tr th {\n",
       "        vertical-align: top;\n",
       "    }\n",
       "\n",
       "    .dataframe thead th {\n",
       "        text-align: right;\n",
       "    }\n",
       "</style>\n",
       "<table border=\"1\" class=\"dataframe\">\n",
       "  <thead>\n",
       "    <tr style=\"text-align: right;\">\n",
       "      <th></th>\n",
       "      <th>ClaimNumber</th>\n",
       "      <th>DateReceived</th>\n",
       "      <th>IncidentDate</th>\n",
       "      <th>AirportCode</th>\n",
       "      <th>AirportName</th>\n",
       "      <th>AirlineName</th>\n",
       "      <th>ClaimType</th>\n",
       "      <th>ClaimSite</th>\n",
       "      <th>Item</th>\n",
       "      <th>ClaimAmount</th>\n",
       "      <th>Status</th>\n",
       "      <th>CloseAmount</th>\n",
       "      <th>Disposition</th>\n",
       "    </tr>\n",
       "  </thead>\n",
       "  <tbody>\n",
       "    <tr>\n",
       "      <th>0</th>\n",
       "      <td>0909802M</td>\n",
       "      <td>2002-01-04</td>\n",
       "      <td>2002-12-12</td>\n",
       "      <td>EWR</td>\n",
       "      <td>Newark International Airport</td>\n",
       "      <td>Continental Airlines</td>\n",
       "      <td>Property Damage</td>\n",
       "      <td>Checkpoint</td>\n",
       "      <td>Other</td>\n",
       "      <td>$350.00</td>\n",
       "      <td>Approved</td>\n",
       "      <td>$350.00</td>\n",
       "      <td>Approve in Full</td>\n",
       "    </tr>\n",
       "    <tr>\n",
       "      <th>1</th>\n",
       "      <td>0202417M</td>\n",
       "      <td>2002-02-02</td>\n",
       "      <td>2004-01-16</td>\n",
       "      <td>SEA</td>\n",
       "      <td>Seattle-Tacoma International</td>\n",
       "      <td>NaN</td>\n",
       "      <td>Property Damage</td>\n",
       "      <td>Checked Baggage</td>\n",
       "      <td>Luggage (all types including footlockers)</td>\n",
       "      <td>$100.00</td>\n",
       "      <td>Settled</td>\n",
       "      <td>$50.00</td>\n",
       "      <td>Settle</td>\n",
       "    </tr>\n",
       "    <tr>\n",
       "      <th>2</th>\n",
       "      <td>0202445M</td>\n",
       "      <td>2002-02-04</td>\n",
       "      <td>2003-11-26</td>\n",
       "      <td>STL</td>\n",
       "      <td>Lambert St. Louis International</td>\n",
       "      <td>American Airlines</td>\n",
       "      <td>Property Damage</td>\n",
       "      <td>Checked Baggage</td>\n",
       "      <td>Cell Phones</td>\n",
       "      <td>$278.88</td>\n",
       "      <td>Settled</td>\n",
       "      <td>$227.92</td>\n",
       "      <td>Settle</td>\n",
       "    </tr>\n",
       "    <tr>\n",
       "      <th>3</th>\n",
       "      <td>0909816M</td>\n",
       "      <td>2002-02-07</td>\n",
       "      <td>2003-01-06</td>\n",
       "      <td>MIA</td>\n",
       "      <td>Miami International Airport</td>\n",
       "      <td>American Airlines</td>\n",
       "      <td>Property Damage</td>\n",
       "      <td>Checkpoint</td>\n",
       "      <td>Luggage (all types including footlockers)</td>\n",
       "      <td>$50.00</td>\n",
       "      <td>Approved</td>\n",
       "      <td>$50.00</td>\n",
       "      <td>Approve in Full</td>\n",
       "    </tr>\n",
       "    <tr>\n",
       "      <th>4</th>\n",
       "      <td>2005032379513</td>\n",
       "      <td>2002-02-18</td>\n",
       "      <td>2005-02-05</td>\n",
       "      <td>MCO</td>\n",
       "      <td>Orlando International Airport</td>\n",
       "      <td>Delta (Song)</td>\n",
       "      <td>Property Damage</td>\n",
       "      <td>Checkpoint</td>\n",
       "      <td>Baby - Strollers; car seats; playpen; etc.</td>\n",
       "      <td>$84.79</td>\n",
       "      <td>Approved</td>\n",
       "      <td>$84.79</td>\n",
       "      <td>Approve in Full</td>\n",
       "    </tr>\n",
       "  </tbody>\n",
       "</table>\n",
       "</div>"
      ],
      "text/plain": [
       "     ClaimNumber DateReceived IncidentDate AirportCode  \\\n",
       "0       0909802M   2002-01-04   2002-12-12         EWR   \n",
       "1       0202417M   2002-02-02   2004-01-16         SEA   \n",
       "2       0202445M   2002-02-04   2003-11-26         STL   \n",
       "3       0909816M   2002-02-07   2003-01-06         MIA   \n",
       "4  2005032379513   2002-02-18   2005-02-05         MCO   \n",
       "\n",
       "                       AirportName           AirlineName        ClaimType  \\\n",
       "0     Newark International Airport  Continental Airlines  Property Damage   \n",
       "1     Seattle-Tacoma International                   NaN  Property Damage   \n",
       "2  Lambert St. Louis International     American Airlines  Property Damage   \n",
       "3      Miami International Airport     American Airlines  Property Damage   \n",
       "4    Orlando International Airport          Delta (Song)  Property Damage   \n",
       "\n",
       "         ClaimSite                                        Item ClaimAmount  \\\n",
       "0       Checkpoint                                       Other    $350.00    \n",
       "1  Checked Baggage   Luggage (all types including footlockers)    $100.00    \n",
       "2  Checked Baggage                                 Cell Phones    $278.88    \n",
       "3       Checkpoint   Luggage (all types including footlockers)     $50.00    \n",
       "4       Checkpoint  Baby - Strollers; car seats; playpen; etc.     $84.79    \n",
       "\n",
       "     Status CloseAmount      Disposition  \n",
       "0  Approved    $350.00   Approve in Full  \n",
       "1   Settled     $50.00            Settle  \n",
       "2   Settled    $227.92            Settle  \n",
       "3  Approved     $50.00   Approve in Full  \n",
       "4  Approved     $84.79   Approve in Full  "
      ]
     },
     "execution_count": 1074,
     "metadata": {},
     "output_type": "execute_result"
    }
   ],
   "source": [
    "#Removing White Spaces from Column Names\n",
    "claims.columns = claims.columns.str.replace(' ', '')\n",
    "claims.head()"
   ]
  },
  {
   "cell_type": "code",
   "execution_count": 1075,
   "metadata": {},
   "outputs": [
    {
     "data": {
      "text/plain": [
       "ClaimNumber     204258\n",
       "DateReceived      4008\n",
       "IncidentDate     26363\n",
       "AirportCode        466\n",
       "AirportName        486\n",
       "AirlineName        319\n",
       "ClaimType           12\n",
       "ClaimSite            7\n",
       "Item              4705\n",
       "ClaimAmount      36118\n",
       "Status              16\n",
       "CloseAmount      17163\n",
       "Disposition          4\n",
       "dtype: int64"
      ]
     },
     "execution_count": 1075,
     "metadata": {},
     "output_type": "execute_result"
    }
   ],
   "source": [
    "claims.nunique(dropna=False)"
   ]
  },
  {
   "cell_type": "markdown",
   "metadata": {},
   "source": [
    "#### Status and Deposition"
   ]
  },
  {
   "cell_type": "code",
   "execution_count": 1076,
   "metadata": {},
   "outputs": [
    {
     "name": "stdout",
     "output_type": "stream",
     "text": [
      "['Approved' 'Settled' 'Canceled' 'Denied'\n",
      " 'Insufficient; one of the following items required: sum certain; statement of fact; signature; location of incident; and date.'\n",
      " 'In litigation' 'Closed as a contractor claim' 'In review'\n",
      " 'Claim entered' nan 'Claim has been assigned for further investigation'\n",
      " 'Pending response from claimant' 'Deny' '-' 'Settle' 'Approve in Full']\n"
     ]
    }
   ],
   "source": [
    "unique_status = claims['Status'].unique()\n",
    "print(unique_status) "
   ]
  },
  {
   "cell_type": "code",
   "execution_count": 1077,
   "metadata": {},
   "outputs": [
    {
     "name": "stdout",
     "output_type": "stream",
     "text": [
      "['Approve in Full' 'Settle' nan 'Deny']\n"
     ]
    }
   ],
   "source": [
    "unique_deposition = claims['Disposition'].unique()\n",
    "print(unique_deposition)"
   ]
  },
  {
   "cell_type": "markdown",
   "metadata": {},
   "source": [
    "Fixing the inconsistencies in Status and deposition columns."
   ]
  },
  {
   "cell_type": "code",
   "execution_count": 1078,
   "metadata": {},
   "outputs": [],
   "source": [
    "#Naming 'Approve in Full' to 'Approved', 'Deny' to 'Denied', 'Settle' to 'Settled' in 'Status' and 'Disposition' columns\n",
    "claims['Status'] = claims['Status'].replace('Approve in Full', 'Approved')\n",
    "claims['Disposition'] = claims['Disposition'].replace('Approve in Full', 'Approved')\n",
    "\n",
    "claims['Status'] = claims['Status'].replace('Deny', 'Denied')\n",
    "claims['Disposition'] = claims['Disposition'].replace('Deny', 'Denied')\n",
    "\n",
    "claims['Status'] = claims['Status'].replace('Settle', 'Settled')\n",
    "claims['Disposition'] = claims['Disposition'].replace('Settle', 'Settled')\n",
    "\n",
    "claims['Status'] = claims['Status'].replace(('Canceled','In review'), 'Canceled')\n",
    "claims['Disposition'] = claims['Disposition'].replace(('Canceled','In review'), 'Canceled')"
   ]
  },
  {
   "cell_type": "code",
   "execution_count": 1079,
   "metadata": {},
   "outputs": [],
   "source": [
    "valid_status = ['Approved', 'Denied', 'Settled', 'Canceled']\n",
    "\n",
    "# Rename everything not in 'valid_status' to 'Other' for 'Status' and 'Disposition' columns\n",
    "claims['Status'] = claims['Status'].apply(lambda x: 'Other' if x not in valid_status else x)\n",
    "claims['Disposition'] = claims['Disposition'].apply(lambda x: 'Other' if x not in valid_status else x)"
   ]
  },
  {
   "cell_type": "code",
   "execution_count": 1080,
   "metadata": {},
   "outputs": [
    {
     "name": "stdout",
     "output_type": "stream",
     "text": [
      "['Approved' 'Settled' 'Other' 'Denied']\n"
     ]
    }
   ],
   "source": [
    "unique_deposition = claims['Disposition'].unique()\n",
    "print(unique_deposition)"
   ]
  },
  {
   "cell_type": "code",
   "execution_count": 1081,
   "metadata": {},
   "outputs": [
    {
     "name": "stdout",
     "output_type": "stream",
     "text": [
      "['Approved' 'Settled' 'Canceled' 'Denied' 'Other']\n"
     ]
    }
   ],
   "source": [
    "unique_deposition = claims['Status'].unique()\n",
    "print(unique_deposition) "
   ]
  },
  {
   "cell_type": "markdown",
   "metadata": {},
   "source": [
    "#### Currencies"
   ]
  },
  {
   "cell_type": "code",
   "execution_count": 1082,
   "metadata": {},
   "outputs": [
    {
     "name": "stdout",
     "output_type": "stream",
     "text": [
      "<class 'pandas.core.frame.DataFrame'>\n",
      "Int64Index: 116745 entries, 0 to 145141\n",
      "Data columns (total 13 columns):\n",
      " #   Column        Non-Null Count   Dtype         \n",
      "---  ------        --------------   -----         \n",
      " 0   ClaimNumber   116745 non-null  object        \n",
      " 1   DateReceived  116649 non-null  datetime64[ns]\n",
      " 2   IncidentDate  116309 non-null  datetime64[ns]\n",
      " 3   AirportCode   112980 non-null  object        \n",
      " 4   AirportName   112980 non-null  object        \n",
      " 5   AirlineName   91349 non-null   object        \n",
      " 6   ClaimType     111916 non-null  object        \n",
      " 7   ClaimSite     116512 non-null  object        \n",
      " 8   Item          114297 non-null  object        \n",
      " 9   ClaimAmount   116745 non-null  float64       \n",
      " 10  Status        116745 non-null  object        \n",
      " 11  CloseAmount   116745 non-null  float64       \n",
      " 12  Disposition   116745 non-null  object        \n",
      "dtypes: datetime64[ns](2), float64(2), object(9)\n",
      "memory usage: 12.5+ MB\n"
     ]
    }
   ],
   "source": [
    "# Removing $ sign on ClaimAmount and Close Amount, then saving them as floats\n",
    "currency_cols = ['ClaimAmount', 'CloseAmount']\n",
    "\n",
    "#Removing the $ sign\n",
    "claims[currency_cols] = claims[currency_cols].replace('[\\$,]', '', regex=True)\n",
    "\n",
    "#Convert to numeric and drop rows with NaN values\n",
    "claims[currency_cols] = claims[currency_cols].apply(pd.to_numeric, errors='coerce')\n",
    "claims = claims.dropna(subset=currency_cols)\n",
    "\n",
    "# Change the type to float\n",
    "claims[currency_cols] = claims[currency_cols].astype(float, errors='ignore')\n",
    "claims.info()"
   ]
  },
  {
   "cell_type": "markdown",
   "metadata": {},
   "source": [
    "#### Airport Codes and Names"
   ]
  },
  {
   "cell_type": "code",
   "execution_count": 1083,
   "metadata": {},
   "outputs": [
    {
     "data": {
      "text/html": [
       "<div>\n",
       "<style scoped>\n",
       "    .dataframe tbody tr th:only-of-type {\n",
       "        vertical-align: middle;\n",
       "    }\n",
       "\n",
       "    .dataframe tbody tr th {\n",
       "        vertical-align: top;\n",
       "    }\n",
       "\n",
       "    .dataframe thead th {\n",
       "        text-align: right;\n",
       "    }\n",
       "</style>\n",
       "<table border=\"1\" class=\"dataframe\">\n",
       "  <thead>\n",
       "    <tr style=\"text-align: right;\">\n",
       "      <th></th>\n",
       "      <th>ICAOCode</th>\n",
       "      <th>IATACode</th>\n",
       "      <th>AirportName</th>\n",
       "      <th>City</th>\n",
       "      <th>Country</th>\n",
       "      <th>LatitudeDegrees</th>\n",
       "      <th>LatitudeMinutes</th>\n",
       "      <th>LatitudeSeconds</th>\n",
       "      <th>LatitudeDir</th>\n",
       "      <th>LongitudeDegrees</th>\n",
       "      <th>LongitudeMinutes</th>\n",
       "      <th>LongitudeSeconds</th>\n",
       "      <th>LongitudeDirection</th>\n",
       "      <th>Altitude</th>\n",
       "      <th>LatitudeDecimalDegrees</th>\n",
       "      <th>LongitudeDecimalDegrees</th>\n",
       "    </tr>\n",
       "  </thead>\n",
       "  <tbody>\n",
       "    <tr>\n",
       "      <th>0</th>\n",
       "      <td>AYGA</td>\n",
       "      <td>GKA</td>\n",
       "      <td>GOROKA</td>\n",
       "      <td>GOROKA</td>\n",
       "      <td>PAPUA NEW GUINEA</td>\n",
       "      <td>6</td>\n",
       "      <td>4</td>\n",
       "      <td>54</td>\n",
       "      <td>S</td>\n",
       "      <td>145</td>\n",
       "      <td>23</td>\n",
       "      <td>30</td>\n",
       "      <td>E</td>\n",
       "      <td>1610</td>\n",
       "      <td>-6.082</td>\n",
       "      <td>145.392</td>\n",
       "    </tr>\n",
       "    <tr>\n",
       "      <th>1</th>\n",
       "      <td>AYLA</td>\n",
       "      <td>LAE</td>\n",
       "      <td>NaN</td>\n",
       "      <td>LAE</td>\n",
       "      <td>PAPUA NEW GUINEA</td>\n",
       "      <td>0</td>\n",
       "      <td>0</td>\n",
       "      <td>0</td>\n",
       "      <td>U</td>\n",
       "      <td>0</td>\n",
       "      <td>0</td>\n",
       "      <td>0</td>\n",
       "      <td>U</td>\n",
       "      <td>0</td>\n",
       "      <td>0.000</td>\n",
       "      <td>0.000</td>\n",
       "    </tr>\n",
       "    <tr>\n",
       "      <th>2</th>\n",
       "      <td>AYMD</td>\n",
       "      <td>MAG</td>\n",
       "      <td>MADANG</td>\n",
       "      <td>MADANG</td>\n",
       "      <td>PAPUA NEW GUINEA</td>\n",
       "      <td>5</td>\n",
       "      <td>12</td>\n",
       "      <td>25</td>\n",
       "      <td>S</td>\n",
       "      <td>145</td>\n",
       "      <td>47</td>\n",
       "      <td>19</td>\n",
       "      <td>E</td>\n",
       "      <td>7</td>\n",
       "      <td>-5.207</td>\n",
       "      <td>145.789</td>\n",
       "    </tr>\n",
       "    <tr>\n",
       "      <th>3</th>\n",
       "      <td>AYMH</td>\n",
       "      <td>HGU</td>\n",
       "      <td>MOUNT HAGEN</td>\n",
       "      <td>MOUNT HAGEN</td>\n",
       "      <td>PAPUA NEW GUINEA</td>\n",
       "      <td>5</td>\n",
       "      <td>49</td>\n",
       "      <td>34</td>\n",
       "      <td>S</td>\n",
       "      <td>144</td>\n",
       "      <td>17</td>\n",
       "      <td>46</td>\n",
       "      <td>E</td>\n",
       "      <td>1643</td>\n",
       "      <td>-5.826</td>\n",
       "      <td>144.296</td>\n",
       "    </tr>\n",
       "    <tr>\n",
       "      <th>4</th>\n",
       "      <td>AYNZ</td>\n",
       "      <td>LAE</td>\n",
       "      <td>NADZAB</td>\n",
       "      <td>NADZAB</td>\n",
       "      <td>PAPUA NEW GUINEA</td>\n",
       "      <td>6</td>\n",
       "      <td>34</td>\n",
       "      <td>11</td>\n",
       "      <td>S</td>\n",
       "      <td>146</td>\n",
       "      <td>43</td>\n",
       "      <td>34</td>\n",
       "      <td>E</td>\n",
       "      <td>73</td>\n",
       "      <td>-6.570</td>\n",
       "      <td>146.726</td>\n",
       "    </tr>\n",
       "  </tbody>\n",
       "</table>\n",
       "</div>"
      ],
      "text/plain": [
       "  ICAOCode IATACode  AirportName         City           Country  \\\n",
       "0     AYGA      GKA       GOROKA       GOROKA  PAPUA NEW GUINEA   \n",
       "1     AYLA      LAE          NaN          LAE  PAPUA NEW GUINEA   \n",
       "2     AYMD      MAG       MADANG       MADANG  PAPUA NEW GUINEA   \n",
       "3     AYMH      HGU  MOUNT HAGEN  MOUNT HAGEN  PAPUA NEW GUINEA   \n",
       "4     AYNZ      LAE       NADZAB       NADZAB  PAPUA NEW GUINEA   \n",
       "\n",
       "   LatitudeDegrees  LatitudeMinutes  LatitudeSeconds LatitudeDir  \\\n",
       "0                6                4               54           S   \n",
       "1                0                0                0           U   \n",
       "2                5               12               25           S   \n",
       "3                5               49               34           S   \n",
       "4                6               34               11           S   \n",
       "\n",
       "   LongitudeDegrees  LongitudeMinutes  LongitudeSeconds LongitudeDirection  \\\n",
       "0               145                23                30                  E   \n",
       "1                 0                 0                 0                  U   \n",
       "2               145                47                19                  E   \n",
       "3               144                17                46                  E   \n",
       "4               146                43                34                  E   \n",
       "\n",
       "   Altitude  LatitudeDecimalDegrees  LongitudeDecimalDegrees  \n",
       "0      1610                  -6.082                  145.392  \n",
       "1         0                   0.000                    0.000  \n",
       "2         7                  -5.207                  145.789  \n",
       "3      1643                  -5.826                  144.296  \n",
       "4        73                  -6.570                  146.726  "
      ]
     },
     "execution_count": 1083,
     "metadata": {},
     "output_type": "execute_result"
    }
   ],
   "source": [
    "#getting the Airport data to fill in the missing data\n",
    "airports = pd.read_csv(r'./Assessment 1 Data Files/GlobalAirportDatabase.csv')\n",
    "airports.head()"
   ]
  },
  {
   "cell_type": "code",
   "execution_count": 1084,
   "metadata": {
    "vscode": {
     "languageId": "powershell"
    }
   },
   "outputs": [
    {
     "name": "stdout",
     "output_type": "stream",
     "text": [
      "<class 'pandas.core.frame.DataFrame'>\n",
      "Int64Index: 116745 entries, 0 to 145141\n",
      "Data columns (total 13 columns):\n",
      " #   Column        Non-Null Count   Dtype         \n",
      "---  ------        --------------   -----         \n",
      " 0   ClaimNumber   116745 non-null  object        \n",
      " 1   DateReceived  116649 non-null  datetime64[ns]\n",
      " 2   IncidentDate  116309 non-null  datetime64[ns]\n",
      " 3   AirportCode   112980 non-null  object        \n",
      " 4   AirportName   116525 non-null  object        \n",
      " 5   AirlineName   91349 non-null   object        \n",
      " 6   ClaimType     111916 non-null  object        \n",
      " 7   ClaimSite     116512 non-null  object        \n",
      " 8   Item          114297 non-null  object        \n",
      " 9   ClaimAmount   116745 non-null  float64       \n",
      " 10  Status        116745 non-null  object        \n",
      " 11  CloseAmount   116745 non-null  float64       \n",
      " 12  Disposition   116745 non-null  object        \n",
      "dtypes: datetime64[ns](2), float64(2), object(9)\n",
      "memory usage: 12.5+ MB\n"
     ]
    }
   ],
   "source": [
    "\n",
    "# Getting Airport Code values (except nulls) from claims DataFrame\n",
    "claims_airportCodes = claims[claims['AirportCode'].notnull()]\n",
    "\n",
    "# Combined airport codes and IATACodes and AirportNames from airports DataFrame, so we can match and fill missing information based on AirportCode\n",
    "merged = pd.merge(claims_airportCodes, airports[['IATACode', 'AirportName']], \n",
    "                          how='left', left_on='AirportCode', right_on='IATACode')\n",
    "\n",
    "# Fill missing AirportName in claims based on AirportCode. AirportName_y is the column name of AirportName from airports DataFrame\n",
    "claims['AirportName'] = claims['AirportName'].fillna(\n",
    "    merged['AirportName_y'] \n",
    ")\n",
    "\n",
    "claims.info()"
   ]
  },
  {
   "cell_type": "code",
   "execution_count": 1085,
   "metadata": {},
   "outputs": [
    {
     "name": "stdout",
     "output_type": "stream",
     "text": [
      "<class 'pandas.core.frame.DataFrame'>\n",
      "Int64Index: 116745 entries, 0 to 145141\n",
      "Data columns (total 13 columns):\n",
      " #   Column        Non-Null Count   Dtype         \n",
      "---  ------        --------------   -----         \n",
      " 0   ClaimNumber   116745 non-null  object        \n",
      " 1   DateReceived  116649 non-null  datetime64[ns]\n",
      " 2   IncidentDate  116309 non-null  datetime64[ns]\n",
      " 3   AirportCode   113230 non-null  object        \n",
      " 4   AirportName   116525 non-null  object        \n",
      " 5   AirlineName   91349 non-null   object        \n",
      " 6   ClaimType     111916 non-null  object        \n",
      " 7   ClaimSite     116512 non-null  object        \n",
      " 8   Item          114297 non-null  object        \n",
      " 9   ClaimAmount   116745 non-null  float64       \n",
      " 10  Status        116745 non-null  object        \n",
      " 11  CloseAmount   116745 non-null  float64       \n",
      " 12  Disposition   116745 non-null  object        \n",
      "dtypes: datetime64[ns](2), float64(2), object(9)\n",
      "memory usage: 12.5+ MB\n"
     ]
    }
   ],
   "source": [
    "# getting rows where AirportCode is missing, but AirportName is available\n",
    "claims_airportNames = claims[claims['AirportCode'].isnull() & claims['AirportName'].notnull()]\n",
    "\n",
    "# Combined AirportNames(from clims) and IATACodes and AirportNames from airports DataFrame, so we can match and fill missing information based on AirportName (from airports)\n",
    "merged_df_name = pd.merge(claims_airportNames, airports[['IATACode', 'AirportName']], \n",
    "                          how='left', left_on='AirportName', right_on='AirportName')\n",
    "\n",
    "# Fill missing AirportCode in claims based on IATACode from airports dataFrame\n",
    "claims['AirportCode'] = claims['AirportCode'].fillna(\n",
    "    merged_df_name['IATACode']\n",
    ")\n",
    "\n",
    "claims.info()"
   ]
  },
  {
   "cell_type": "code",
   "execution_count": 1086,
   "metadata": {},
   "outputs": [],
   "source": [
    "# Select only the necessary columns from both claiims and airports DataFrames before merging\n",
    "claims_needed_columns = claims[['AirportCode', 'AirportName']]\n",
    "\n",
    "# Filter airports DataFrame to include only rows where Country is 'USA'\n",
    "airports_needed_columns = airports[['IATACode', 'AirportName', 'Country']].query(\"Country == 'USA'\")"
   ]
  },
  {
   "cell_type": "code",
   "execution_count": 1087,
   "metadata": {},
   "outputs": [
    {
     "name": "stdout",
     "output_type": "stream",
     "text": [
      "<class 'pandas.core.frame.DataFrame'>\n",
      "Int64Index: 370463 entries, 0 to 370462\n",
      "Data columns (total 4 columns):\n",
      " #   Column       Non-Null Count   Dtype \n",
      "---  ------       --------------   ----- \n",
      " 0   AirportCode  113868 non-null  object\n",
      " 1   AirportName  354763 non-null  object\n",
      " 2   IATACode     105680 non-null  object\n",
      " 3   Country      362275 non-null  object\n",
      "dtypes: object(4)\n",
      "memory usage: 14.1+ MB\n"
     ]
    }
   ],
   "source": [
    "# Merge claims and filtered airports on AirportCode and IATACode\n",
    "claims_merged = claims_needed_columns.merge(airports_needed_columns[['IATACode', 'Country']], \n",
    "                                     left_on='AirportCode', \n",
    "                                     right_on='IATACode', \n",
    "                                     how='left')\n",
    "\n",
    "claims_merged.info(3)"
   ]
  },
  {
   "cell_type": "code",
   "execution_count": 1088,
   "metadata": {},
   "outputs": [
    {
     "name": "stdout",
     "output_type": "stream",
     "text": [
      "<class 'pandas.core.frame.DataFrame'>\n",
      "Int64Index: 1390963 entries, 0 to 1390962\n",
      "Data columns (total 5 columns):\n",
      " #   Column           Non-Null Count    Dtype \n",
      "---  ------           --------------    ----- \n",
      " 0   AirportCode      114193 non-null   object\n",
      " 1   AirportName      354763 non-null   object\n",
      " 2   IATACode         106005 non-null   object\n",
      " 3   Country_by_code  1382775 non-null  object\n",
      " 4   Country_by_name  1275445 non-null  object\n",
      "dtypes: object(5)\n",
      "memory usage: 63.7+ MB\n"
     ]
    }
   ],
   "source": [
    "# Merge on AirportName if it wasn't matched based on the previous merge\n",
    "US_claims = claims_merged.merge(airports_needed_columns[['AirportName', 'Country']], \n",
    "                                    left_on='AirportName', \n",
    "                                    right_on='AirportName', \n",
    "                                    how='left', \n",
    "                                    suffixes=('_by_code', '_by_name'))\n",
    "\n",
    "US_claims.info(3)"
   ]
  },
  {
   "cell_type": "code",
   "execution_count": 1089,
   "metadata": {},
   "outputs": [
    {
     "data": {
      "text/plain": [
       "AirportCode    423\n",
       "AirportName    559\n",
       "Country          2\n",
       "dtype: int64"
      ]
     },
     "execution_count": 1089,
     "metadata": {},
     "output_type": "execute_result"
    }
   ],
   "source": [
    "# Combine the 'Country' columns from both merges, prioritizing the country found by code\n",
    "US_claims['Country'] = US_claims['Country_by_code'].combine_first(US_claims['Country_by_name'])\n",
    "\n",
    "# Drop unnecessary columns after merging\n",
    "US_claims.drop(columns=['IATACode', 'Country_by_code', 'Country_by_name'], inplace=True)\n",
    "\n",
    "# Drop rows where both 'AirportCode' and 'AirportName' are null\n",
    "US_claims.dropna(subset=['AirportCode', 'AirportName'], how='all', inplace=True)\n",
    "\n",
    "# Display the cleaned DataFrame\n",
    "US_claims.nunique(dropna=False)"
   ]
  },
  {
   "cell_type": "code",
   "execution_count": 1090,
   "metadata": {},
   "outputs": [
    {
     "data": {
      "text/plain": [
       "array(['USA', nan], dtype=object)"
      ]
     },
     "execution_count": 1090,
     "metadata": {},
     "output_type": "execute_result"
    }
   ],
   "source": [
    "US_claims.Country.unique()"
   ]
  },
  {
   "cell_type": "code",
   "execution_count": 1091,
   "metadata": {},
   "outputs": [
    {
     "name": "stdout",
     "output_type": "stream",
     "text": [
      "<class 'pandas.core.frame.DataFrame'>\n",
      "Int64Index: 116745 entries, 0 to 145141\n",
      "Data columns (total 13 columns):\n",
      " #   Column        Non-Null Count   Dtype         \n",
      "---  ------        --------------   -----         \n",
      " 0   ClaimNumber   116745 non-null  object        \n",
      " 1   DateReceived  116649 non-null  datetime64[ns]\n",
      " 2   IncidentDate  116309 non-null  datetime64[ns]\n",
      " 3   AirportCode   113230 non-null  object        \n",
      " 4   AirportName   116525 non-null  object        \n",
      " 5   AirlineName   91349 non-null   object        \n",
      " 6   ClaimType     111916 non-null  object        \n",
      " 7   ClaimSite     116512 non-null  object        \n",
      " 8   Item          114297 non-null  object        \n",
      " 9   ClaimAmount   116745 non-null  float64       \n",
      " 10  Status        116745 non-null  object        \n",
      " 11  CloseAmount   116745 non-null  float64       \n",
      " 12  Disposition   116745 non-null  object        \n",
      "dtypes: datetime64[ns](2), float64(2), object(9)\n",
      "memory usage: 12.5+ MB\n"
     ]
    }
   ],
   "source": [
    "\n",
    "# Get unique AirportCode and AirportName values from US_claims\n",
    "unique_airport_codes = US_claims['AirportCode'].unique()\n",
    "unique_airport_names = US_claims['AirportName'].unique()\n",
    "\n",
    "# Filter the original claims DataFrame\n",
    "filtered_claims = claims[\n",
    "    claims['AirportCode'].isin(unique_airport_codes) | \n",
    "    claims['AirportName'].isin(unique_airport_names)\n",
    "]\n",
    "\n",
    "filtered_claims.info()"
   ]
  },
  {
   "cell_type": "code",
   "execution_count": 1092,
   "metadata": {},
   "outputs": [
    {
     "name": "stdout",
     "output_type": "stream",
     "text": [
      "<class 'pandas.core.frame.DataFrame'>\n",
      "Int64Index: 116745 entries, 0 to 145141\n",
      "Data columns (total 13 columns):\n",
      " #   Column        Non-Null Count   Dtype         \n",
      "---  ------        --------------   -----         \n",
      " 0   ClaimNumber   116745 non-null  object        \n",
      " 1   DateReceived  116649 non-null  datetime64[ns]\n",
      " 2   IncidentDate  116309 non-null  datetime64[ns]\n",
      " 3   AirportCode   113230 non-null  object        \n",
      " 4   AirportName   116525 non-null  object        \n",
      " 5   AirlineName   91349 non-null   object        \n",
      " 6   ClaimType     111916 non-null  object        \n",
      " 7   ClaimSite     116512 non-null  object        \n",
      " 8   Item          114297 non-null  object        \n",
      " 9   ClaimAmount   116745 non-null  float64       \n",
      " 10  Status        116745 non-null  object        \n",
      " 11  CloseAmount   116745 non-null  float64       \n",
      " 12  Disposition   116745 non-null  object        \n",
      "dtypes: datetime64[ns](2), float64(2), object(9)\n",
      "memory usage: 12.5+ MB\n"
     ]
    }
   ],
   "source": [
    "claims.info()"
   ]
  },
  {
   "cell_type": "markdown",
   "metadata": {},
   "source": [
    "### Confirmed that claims dataframe contains data for USA"
   ]
  },
  {
   "cell_type": "code",
   "execution_count": 1093,
   "metadata": {},
   "outputs": [],
   "source": [
    "# Drop rows where both 'AirportCode' and 'AirportName' are null\n",
    "claims.dropna(subset=['AirportCode', 'AirportName'], how='all', inplace=True)"
   ]
  },
  {
   "cell_type": "code",
   "execution_count": 1095,
   "metadata": {},
   "outputs": [
    {
     "data": {
      "text/plain": [
       "0"
      ]
     },
     "execution_count": 1095,
     "metadata": {},
     "output_type": "execute_result"
    }
   ],
   "source": [
    "#I assume ClaimNumber is the identifier (Primary Key), so I will check for duplicates (There should be no duplicates)\n",
    "claims.duplicated(subset=['ClaimNumber']).sum()\n"
   ]
  },
  {
   "cell_type": "markdown",
   "metadata": {},
   "source": [
    "## Done with cleaning section\n",
    "<hr>"
   ]
  },
  {
   "cell_type": "markdown",
   "metadata": {},
   "source": [
    "# Task 1\n",
    "###  What is the most common type of insurance claim?\n"
   ]
  },
  {
   "cell_type": "code",
   "execution_count": 1096,
   "metadata": {},
   "outputs": [
    {
     "data": {
      "text/plain": [
       "Passenger Property Loss    65157\n",
       "Property Damage            45615\n",
       "NaN                         4791\n",
       "Employee Loss (MPCECA)       388\n",
       "Passenger Theft              378\n",
       "Personal Injury              147\n",
       "Motor Vehicle                 54\n",
       "Name: ClaimType, dtype: int64"
      ]
     },
     "execution_count": 1096,
     "metadata": {},
     "output_type": "execute_result"
    }
   ],
   "source": [
    "#Checking the ClaimType column\n",
    "claims['ClaimType'].value_counts(dropna=False)"
   ]
  },
  {
   "cell_type": "code",
   "execution_count": 1097,
   "metadata": {},
   "outputs": [
    {
     "data": {
      "text/plain": [
       "[Text(0.5, 1.0, 'Types of Insurance Claims')]"
      ]
     },
     "execution_count": 1097,
     "metadata": {},
     "output_type": "execute_result"
    },
    {
     "data": {
      "image/png": "[encoded data removed]",
      "text/plain": [
       "<Figure size 432x288 with 1 Axes>"
      ]
     },
     "metadata": {
      "needs_background": "light"
     },
     "output_type": "display_data"
    }
   ],
   "source": [
    "#excluding Null values to find the most common type of insurance claim\n",
    "claim_type = claims['ClaimType'].value_counts(dropna=True)\n",
    "\n",
    "#plotting a barplot\n",
    "ax = sns.barplot(y=claim_type.index, x=claim_type.values, palette='bright')\n",
    "#Adding the title\n",
    "ax.set(title = 'Types of Insurance Claims')"
   ]
  },
  {
   "cell_type": "markdown",
   "metadata": {},
   "source": [
    "<hr>"
   ]
  },
  {
   "cell_type": "markdown",
   "metadata": {},
   "source": [
    "# Task 2\n",
    "### Which claim site within the airport are claims most commonly filed for?"
   ]
  },
  {
   "cell_type": "code",
   "execution_count": 1098,
   "metadata": {},
   "outputs": [
    {
     "name": "stdout",
     "output_type": "stream",
     "text": [
      "<class 'pandas.core.frame.DataFrame'>\n",
      "Int64Index: 116530 entries, 0 to 145141\n",
      "Data columns (total 13 columns):\n",
      " #   Column        Non-Null Count   Dtype         \n",
      "---  ------        --------------   -----         \n",
      " 0   ClaimNumber   116530 non-null  object        \n",
      " 1   DateReceived  116435 non-null  datetime64[ns]\n",
      " 2   IncidentDate  116100 non-null  datetime64[ns]\n",
      " 3   AirportCode   113230 non-null  object        \n",
      " 4   AirportName   116525 non-null  object        \n",
      " 5   AirlineName   91262 non-null   object        \n",
      " 6   ClaimType     111739 non-null  object        \n",
      " 7   ClaimSite     116300 non-null  object        \n",
      " 8   Item          114097 non-null  object        \n",
      " 9   ClaimAmount   116530 non-null  float64       \n",
      " 10  Status        116530 non-null  object        \n",
      " 11  CloseAmount   116530 non-null  float64       \n",
      " 12  Disposition   116530 non-null  object        \n",
      "dtypes: datetime64[ns](2), float64(2), object(9)\n",
      "memory usage: 12.4+ MB\n"
     ]
    }
   ],
   "source": [
    "claims.info()"
   ]
  },
  {
   "cell_type": "code",
   "execution_count": 1099,
   "metadata": {},
   "outputs": [
    {
     "data": {
      "text/plain": [
       "Checked Baggage    95603\n",
       "Checkpoint         19803\n",
       "Other                834\n",
       "NaN                  230\n",
       "Motor Vehicle         60\n",
       "Name: ClaimSite, dtype: int64"
      ]
     },
     "execution_count": 1099,
     "metadata": {},
     "output_type": "execute_result"
    }
   ],
   "source": [
    "claims['ClaimSite'].value_counts(dropna=False)"
   ]
  },
  {
   "cell_type": "code",
   "execution_count": 1100,
   "metadata": {},
   "outputs": [
    {
     "data": {
      "text/plain": [
       "5"
      ]
     },
     "execution_count": 1100,
     "metadata": {},
     "output_type": "execute_result"
    }
   ],
   "source": [
    "claims.ClaimSite.nunique(dropna=False)"
   ]
  },
  {
   "cell_type": "code",
   "execution_count": 1101,
   "metadata": {},
   "outputs": [
    {
     "data": {
      "text/plain": [
       "[Text(0.5, 1.0, 'Most Common Claim Site'),\n",
       " Text(0.5, 0, 'Count'),\n",
       " Text(0, 0.5, 'Claim Site')]"
      ]
     },
     "execution_count": 1101,
     "metadata": {},
     "output_type": "execute_result"
    },
    {
     "data": {
      "image/png": "[encoded data removed]",
      "text/plain": [
       "<Figure size 432x288 with 1 Axes>"
      ]
     },
     "metadata": {
      "needs_background": "light"
     },
     "output_type": "display_data"
    }
   ],
   "source": [
    "#excluding Null values to find the most common sites with claims\n",
    "claim_site = claims['ClaimSite'].value_counts(dropna=True)\n",
    "\n",
    "#plotting a barplot\n",
    "ax = sns.barplot(y=claim_site.index, x=claim_site.values, palette='bright', orient='h')\n",
    "#Adding the title\n",
    "ax.set(title = 'Most Common Claim Site', xlabel='Count', ylabel='Claim Site')"
   ]
  },
  {
   "cell_type": "markdown",
   "metadata": {},
   "source": [
    "<hr>"
   ]
  },
  {
   "cell_type": "markdown",
   "metadata": {},
   "source": [
    "# Task 3\n",
    "###  What type of claim is made most at each claim site?"
   ]
  },
  {
   "cell_type": "code",
   "execution_count": 1102,
   "metadata": {},
   "outputs": [
    {
     "data": {
      "text/html": [
       "<div>\n",
       "<style scoped>\n",
       "    .dataframe tbody tr th:only-of-type {\n",
       "        vertical-align: middle;\n",
       "    }\n",
       "\n",
       "    .dataframe tbody tr th {\n",
       "        vertical-align: top;\n",
       "    }\n",
       "\n",
       "    .dataframe thead th {\n",
       "        text-align: right;\n",
       "    }\n",
       "</style>\n",
       "<table border=\"1\" class=\"dataframe\">\n",
       "  <thead>\n",
       "    <tr style=\"text-align: right;\">\n",
       "      <th></th>\n",
       "      <th>ClaimSite</th>\n",
       "      <th>ClaimType</th>\n",
       "      <th>Count</th>\n",
       "    </tr>\n",
       "  </thead>\n",
       "  <tbody>\n",
       "    <tr>\n",
       "      <th>0</th>\n",
       "      <td>Checked Baggage</td>\n",
       "      <td>Employee Loss (MPCECA)</td>\n",
       "      <td>325</td>\n",
       "    </tr>\n",
       "    <tr>\n",
       "      <th>1</th>\n",
       "      <td>Checked Baggage</td>\n",
       "      <td>Motor Vehicle</td>\n",
       "      <td>6</td>\n",
       "    </tr>\n",
       "    <tr>\n",
       "      <th>2</th>\n",
       "      <td>Checked Baggage</td>\n",
       "      <td>Passenger Property Loss</td>\n",
       "      <td>56683</td>\n",
       "    </tr>\n",
       "    <tr>\n",
       "      <th>3</th>\n",
       "      <td>Checked Baggage</td>\n",
       "      <td>Passenger Theft</td>\n",
       "      <td>329</td>\n",
       "    </tr>\n",
       "    <tr>\n",
       "      <th>4</th>\n",
       "      <td>Checked Baggage</td>\n",
       "      <td>Personal Injury</td>\n",
       "      <td>43</td>\n",
       "    </tr>\n",
       "    <tr>\n",
       "      <th>5</th>\n",
       "      <td>Checked Baggage</td>\n",
       "      <td>Property Damage</td>\n",
       "      <td>34441</td>\n",
       "    </tr>\n",
       "    <tr>\n",
       "      <th>6</th>\n",
       "      <td>Checkpoint</td>\n",
       "      <td>Employee Loss (MPCECA)</td>\n",
       "      <td>48</td>\n",
       "    </tr>\n",
       "    <tr>\n",
       "      <th>7</th>\n",
       "      <td>Checkpoint</td>\n",
       "      <td>Motor Vehicle</td>\n",
       "      <td>1</td>\n",
       "    </tr>\n",
       "    <tr>\n",
       "      <th>8</th>\n",
       "      <td>Checkpoint</td>\n",
       "      <td>Passenger Property Loss</td>\n",
       "      <td>8182</td>\n",
       "    </tr>\n",
       "    <tr>\n",
       "      <th>9</th>\n",
       "      <td>Checkpoint</td>\n",
       "      <td>Passenger Theft</td>\n",
       "      <td>46</td>\n",
       "    </tr>\n",
       "    <tr>\n",
       "      <th>10</th>\n",
       "      <td>Checkpoint</td>\n",
       "      <td>Personal Injury</td>\n",
       "      <td>95</td>\n",
       "    </tr>\n",
       "    <tr>\n",
       "      <th>11</th>\n",
       "      <td>Checkpoint</td>\n",
       "      <td>Property Damage</td>\n",
       "      <td>10793</td>\n",
       "    </tr>\n",
       "    <tr>\n",
       "      <th>12</th>\n",
       "      <td>Motor Vehicle</td>\n",
       "      <td>Employee Loss (MPCECA)</td>\n",
       "      <td>4</td>\n",
       "    </tr>\n",
       "    <tr>\n",
       "      <th>13</th>\n",
       "      <td>Motor Vehicle</td>\n",
       "      <td>Motor Vehicle</td>\n",
       "      <td>41</td>\n",
       "    </tr>\n",
       "    <tr>\n",
       "      <th>14</th>\n",
       "      <td>Motor Vehicle</td>\n",
       "      <td>Passenger Property Loss</td>\n",
       "      <td>3</td>\n",
       "    </tr>\n",
       "    <tr>\n",
       "      <th>15</th>\n",
       "      <td>Motor Vehicle</td>\n",
       "      <td>Passenger Theft</td>\n",
       "      <td>1</td>\n",
       "    </tr>\n",
       "    <tr>\n",
       "      <th>16</th>\n",
       "      <td>Motor Vehicle</td>\n",
       "      <td>Personal Injury</td>\n",
       "      <td>1</td>\n",
       "    </tr>\n",
       "    <tr>\n",
       "      <th>17</th>\n",
       "      <td>Motor Vehicle</td>\n",
       "      <td>Property Damage</td>\n",
       "      <td>8</td>\n",
       "    </tr>\n",
       "    <tr>\n",
       "      <th>18</th>\n",
       "      <td>Other</td>\n",
       "      <td>Employee Loss (MPCECA)</td>\n",
       "      <td>11</td>\n",
       "    </tr>\n",
       "    <tr>\n",
       "      <th>19</th>\n",
       "      <td>Other</td>\n",
       "      <td>Motor Vehicle</td>\n",
       "      <td>5</td>\n",
       "    </tr>\n",
       "    <tr>\n",
       "      <th>20</th>\n",
       "      <td>Other</td>\n",
       "      <td>Passenger Property Loss</td>\n",
       "      <td>215</td>\n",
       "    </tr>\n",
       "    <tr>\n",
       "      <th>21</th>\n",
       "      <td>Other</td>\n",
       "      <td>Passenger Theft</td>\n",
       "      <td>1</td>\n",
       "    </tr>\n",
       "    <tr>\n",
       "      <th>22</th>\n",
       "      <td>Other</td>\n",
       "      <td>Personal Injury</td>\n",
       "      <td>7</td>\n",
       "    </tr>\n",
       "    <tr>\n",
       "      <th>23</th>\n",
       "      <td>Other</td>\n",
       "      <td>Property Damage</td>\n",
       "      <td>298</td>\n",
       "    </tr>\n",
       "  </tbody>\n",
       "</table>\n",
       "</div>"
      ],
      "text/plain": [
       "          ClaimSite                ClaimType  Count\n",
       "0   Checked Baggage   Employee Loss (MPCECA)    325\n",
       "1   Checked Baggage            Motor Vehicle      6\n",
       "2   Checked Baggage  Passenger Property Loss  56683\n",
       "3   Checked Baggage          Passenger Theft    329\n",
       "4   Checked Baggage          Personal Injury     43\n",
       "5   Checked Baggage          Property Damage  34441\n",
       "6        Checkpoint   Employee Loss (MPCECA)     48\n",
       "7        Checkpoint            Motor Vehicle      1\n",
       "8        Checkpoint  Passenger Property Loss   8182\n",
       "9        Checkpoint          Passenger Theft     46\n",
       "10       Checkpoint          Personal Injury     95\n",
       "11       Checkpoint          Property Damage  10793\n",
       "12    Motor Vehicle   Employee Loss (MPCECA)      4\n",
       "13    Motor Vehicle            Motor Vehicle     41\n",
       "14    Motor Vehicle  Passenger Property Loss      3\n",
       "15    Motor Vehicle          Passenger Theft      1\n",
       "16    Motor Vehicle          Personal Injury      1\n",
       "17    Motor Vehicle          Property Damage      8\n",
       "18            Other   Employee Loss (MPCECA)     11\n",
       "19            Other            Motor Vehicle      5\n",
       "20            Other  Passenger Property Loss    215\n",
       "21            Other          Passenger Theft      1\n",
       "22            Other          Personal Injury      7\n",
       "23            Other          Property Damage    298"
      ]
     },
     "execution_count": 1102,
     "metadata": {},
     "output_type": "execute_result"
    }
   ],
   "source": [
    "#creating a new dataFrame for the Task\n",
    "site_type = claims[['ClaimSite', 'ClaimType']]\n",
    "\n",
    "#Grouping the data by ClaimSite and ClaimType. Then counting the number of each ClaimType\n",
    "site_type = site_type.groupby(['ClaimSite', 'ClaimType']).agg({'ClaimType': 'count'})\n",
    "\n",
    "#Renaming the 2nd ClaimType column\n",
    "site_type = site_type.rename(columns={'ClaimType': 'Count'})\n",
    "\n",
    "#Resetting the index to prepare for plotting\n",
    "site_type.reset_index(inplace=True)\n",
    "site_type"
   ]
  },
  {
   "cell_type": "code",
   "execution_count": 1103,
   "metadata": {},
   "outputs": [
    {
     "data": {
      "text/plain": [
       "<seaborn.axisgrid.FacetGrid at 0x2340dc58160>"
      ]
     },
     "execution_count": 1103,
     "metadata": {},
     "output_type": "execute_result"
    },
    {
     "data": {
      "image/png": "[encoded data removed]",
      "text/plain": [
       "<Figure size 522.5x360 with 1 Axes>"
      ]
     },
     "metadata": {
      "needs_background": "light"
     },
     "output_type": "display_data"
    }
   ],
   "source": [
    "#Plotting the result to display the number of claims for each ClaimType based on the ClaimSite\n",
    "sns.catplot(data=site_type, y='ClaimSite', x='Count', kind='bar', hue='ClaimType', palette='bright', orient='h')"
   ]
  },
  {
   "cell_type": "markdown",
   "metadata": {},
   "source": [
    "<hr>"
   ]
  },
  {
   "cell_type": "markdown",
   "metadata": {},
   "source": [
    "# Task 4\n",
    "### What is the typical claim amount?"
   ]
  },
  {
   "cell_type": "code",
   "execution_count": 1104,
   "metadata": {},
   "outputs": [
    {
     "name": "stdout",
     "output_type": "stream",
     "text": [
      "<class 'pandas.core.frame.DataFrame'>\n",
      "Int64Index: 116530 entries, 0 to 145141\n",
      "Data columns (total 13 columns):\n",
      " #   Column        Non-Null Count   Dtype         \n",
      "---  ------        --------------   -----         \n",
      " 0   ClaimNumber   116530 non-null  object        \n",
      " 1   DateReceived  116435 non-null  datetime64[ns]\n",
      " 2   IncidentDate  116100 non-null  datetime64[ns]\n",
      " 3   AirportCode   113230 non-null  object        \n",
      " 4   AirportName   116525 non-null  object        \n",
      " 5   AirlineName   91262 non-null   object        \n",
      " 6   ClaimType     111739 non-null  object        \n",
      " 7   ClaimSite     116300 non-null  object        \n",
      " 8   Item          114097 non-null  object        \n",
      " 9   ClaimAmount   116530 non-null  float64       \n",
      " 10  Status        116530 non-null  object        \n",
      " 11  CloseAmount   116530 non-null  float64       \n",
      " 12  Disposition   116530 non-null  object        \n",
      "dtypes: datetime64[ns](2), float64(2), object(9)\n",
      "memory usage: 12.4+ MB\n"
     ]
    }
   ],
   "source": [
    "claims.info()"
   ]
  },
  {
   "cell_type": "code",
   "execution_count": 1105,
   "metadata": {},
   "outputs": [
    {
     "data": {
      "text/html": [
       "<div>\n",
       "<style scoped>\n",
       "    .dataframe tbody tr th:only-of-type {\n",
       "        vertical-align: middle;\n",
       "    }\n",
       "\n",
       "    .dataframe tbody tr th {\n",
       "        vertical-align: top;\n",
       "    }\n",
       "\n",
       "    .dataframe thead th {\n",
       "        text-align: right;\n",
       "    }\n",
       "</style>\n",
       "<table border=\"1\" class=\"dataframe\">\n",
       "  <thead>\n",
       "    <tr style=\"text-align: right;\">\n",
       "      <th></th>\n",
       "      <th>0</th>\n",
       "    </tr>\n",
       "    <tr>\n",
       "      <th>ClaimAmount</th>\n",
       "      <th></th>\n",
       "    </tr>\n",
       "  </thead>\n",
       "  <tbody>\n",
       "    <tr>\n",
       "      <th>100.0</th>\n",
       "      <td>3232</td>\n",
       "    </tr>\n",
       "    <tr>\n",
       "      <th>200.0</th>\n",
       "      <td>2827</td>\n",
       "    </tr>\n",
       "    <tr>\n",
       "      <th>50.0</th>\n",
       "      <td>2687</td>\n",
       "    </tr>\n",
       "    <tr>\n",
       "      <th>150.0</th>\n",
       "      <td>2591</td>\n",
       "    </tr>\n",
       "    <tr>\n",
       "      <th>300.0</th>\n",
       "      <td>2068</td>\n",
       "    </tr>\n",
       "  </tbody>\n",
       "</table>\n",
       "</div>"
      ],
      "text/plain": [
       "                0\n",
       "ClaimAmount      \n",
       "100.0        3232\n",
       "200.0        2827\n",
       "50.0         2687\n",
       "150.0        2591\n",
       "300.0        2068"
      ]
     },
     "execution_count": 1105,
     "metadata": {},
     "output_type": "execute_result"
    }
   ],
   "source": [
    "#Getting the top 5 most common claim amounts\n",
    "top5_typical_claims = claims[['ClaimAmount']].value_counts().head(5)\n",
    "top5_typical_claims = pd.DataFrame(top5_typical_claims)\n",
    "top5_typical_claims"
   ]
  },
  {
   "cell_type": "code",
   "execution_count": 1106,
   "metadata": {},
   "outputs": [
    {
     "name": "stdout",
     "output_type": "stream",
     "text": [
      "<class 'pandas.core.frame.DataFrame'>\n",
      "RangeIndex: 5 entries, 0 to 4\n",
      "Data columns (total 2 columns):\n",
      " #   Column       Non-Null Count  Dtype \n",
      "---  ------       --------------  ----- \n",
      " 0   ClaimAmount  5 non-null      object\n",
      " 1   Count        5 non-null      int64 \n",
      "dtypes: int64(1), object(1)\n",
      "memory usage: 208.0+ bytes\n"
     ]
    }
   ],
   "source": [
    "#Renaming the column to count\n",
    "top5_typical_claims = top5_typical_claims.rename(columns={0: 'Count'})\n",
    "top5_typical_claims\n",
    "\n",
    "#Resetting the index to prepare for plotting\n",
    "top5_typical_claims.reset_index(inplace=True)\n",
    "\n",
    "#Adding the dollar sign to the ClaimAmount column\n",
    "top5_typical_claims['ClaimAmount'] = top5_typical_claims['ClaimAmount'].map('${:,.2f}'.format)\n",
    "top5_typical_claims.info()"
   ]
  },
  {
   "cell_type": "code",
   "execution_count": 1107,
   "metadata": {},
   "outputs": [
    {
     "data": {
      "text/plain": [
       "<AxesSubplot:title={'center':'Top 5 Claim Amounts'}, ylabel='Count'>"
      ]
     },
     "execution_count": 1107,
     "metadata": {},
     "output_type": "execute_result"
    },
    {
     "data": {
      "image/png": "[encoded data removed]",
      "text/plain": [
       "<Figure size 504x504 with 1 Axes>"
      ]
     },
     "metadata": {},
     "output_type": "display_data"
    }
   ],
   "source": [
    "#Plotting a pie chart to display the top 5 most common claim amounts\n",
    "top5_typical_claims.plot(kind='pie', y='Count', autopct='%1.1f%%', startangle=90, title='Top 5 Claim Amounts', labels=top5_typical_claims['ClaimAmount'], figsize=(7, 7))"
   ]
  },
  {
   "cell_type": "markdown",
   "metadata": {},
   "source": [
    "<hr>"
   ]
  },
  {
   "cell_type": "markdown",
   "metadata": {},
   "source": [
    "# Task 5\n",
    "### What is the overall claim approval rate for the entire U.S.?"
   ]
  },
  {
   "cell_type": "code",
   "execution_count": 1111,
   "metadata": {},
   "outputs": [
    {
     "data": {
      "text/html": [
       "<div>\n",
       "<style scoped>\n",
       "    .dataframe tbody tr th:only-of-type {\n",
       "        vertical-align: middle;\n",
       "    }\n",
       "\n",
       "    .dataframe tbody tr th {\n",
       "        vertical-align: top;\n",
       "    }\n",
       "\n",
       "    .dataframe thead th {\n",
       "        text-align: right;\n",
       "    }\n",
       "</style>\n",
       "<table border=\"1\" class=\"dataframe\">\n",
       "  <thead>\n",
       "    <tr style=\"text-align: right;\">\n",
       "      <th></th>\n",
       "      <th>ClaimNumber</th>\n",
       "      <th>DateReceived</th>\n",
       "      <th>IncidentDate</th>\n",
       "      <th>AirportCode</th>\n",
       "      <th>AirportName</th>\n",
       "      <th>AirlineName</th>\n",
       "      <th>ClaimType</th>\n",
       "      <th>ClaimSite</th>\n",
       "      <th>Item</th>\n",
       "      <th>ClaimAmount</th>\n",
       "      <th>Status</th>\n",
       "      <th>CloseAmount</th>\n",
       "      <th>Disposition</th>\n",
       "    </tr>\n",
       "  </thead>\n",
       "  <tbody>\n",
       "    <tr>\n",
       "      <th>0</th>\n",
       "      <td>0909802M</td>\n",
       "      <td>2002-01-04</td>\n",
       "      <td>2002-12-12</td>\n",
       "      <td>EWR</td>\n",
       "      <td>Newark International Airport</td>\n",
       "      <td>Continental Airlines</td>\n",
       "      <td>Property Damage</td>\n",
       "      <td>Checkpoint</td>\n",
       "      <td>Other</td>\n",
       "      <td>350.00</td>\n",
       "      <td>Approved</td>\n",
       "      <td>350.00</td>\n",
       "      <td>Approved</td>\n",
       "    </tr>\n",
       "    <tr>\n",
       "      <th>1</th>\n",
       "      <td>0202417M</td>\n",
       "      <td>2002-02-02</td>\n",
       "      <td>2004-01-16</td>\n",
       "      <td>SEA</td>\n",
       "      <td>Seattle-Tacoma International</td>\n",
       "      <td>NaN</td>\n",
       "      <td>Property Damage</td>\n",
       "      <td>Checked Baggage</td>\n",
       "      <td>Luggage (all types including footlockers)</td>\n",
       "      <td>100.00</td>\n",
       "      <td>Settled</td>\n",
       "      <td>50.00</td>\n",
       "      <td>Settled</td>\n",
       "    </tr>\n",
       "    <tr>\n",
       "      <th>2</th>\n",
       "      <td>0202445M</td>\n",
       "      <td>2002-02-04</td>\n",
       "      <td>2003-11-26</td>\n",
       "      <td>STL</td>\n",
       "      <td>Lambert St. Louis International</td>\n",
       "      <td>American Airlines</td>\n",
       "      <td>Property Damage</td>\n",
       "      <td>Checked Baggage</td>\n",
       "      <td>Cell Phones</td>\n",
       "      <td>278.88</td>\n",
       "      <td>Settled</td>\n",
       "      <td>227.92</td>\n",
       "      <td>Settled</td>\n",
       "    </tr>\n",
       "    <tr>\n",
       "      <th>3</th>\n",
       "      <td>0909816M</td>\n",
       "      <td>2002-02-07</td>\n",
       "      <td>2003-01-06</td>\n",
       "      <td>MIA</td>\n",
       "      <td>Miami International Airport</td>\n",
       "      <td>American Airlines</td>\n",
       "      <td>Property Damage</td>\n",
       "      <td>Checkpoint</td>\n",
       "      <td>Luggage (all types including footlockers)</td>\n",
       "      <td>50.00</td>\n",
       "      <td>Approved</td>\n",
       "      <td>50.00</td>\n",
       "      <td>Approved</td>\n",
       "    </tr>\n",
       "    <tr>\n",
       "      <th>4</th>\n",
       "      <td>2005032379513</td>\n",
       "      <td>2002-02-18</td>\n",
       "      <td>2005-02-05</td>\n",
       "      <td>MCO</td>\n",
       "      <td>Orlando International Airport</td>\n",
       "      <td>Delta (Song)</td>\n",
       "      <td>Property Damage</td>\n",
       "      <td>Checkpoint</td>\n",
       "      <td>Baby - Strollers; car seats; playpen; etc.</td>\n",
       "      <td>84.79</td>\n",
       "      <td>Approved</td>\n",
       "      <td>84.79</td>\n",
       "      <td>Approved</td>\n",
       "    </tr>\n",
       "  </tbody>\n",
       "</table>\n",
       "</div>"
      ],
      "text/plain": [
       "     ClaimNumber DateReceived IncidentDate AirportCode  \\\n",
       "0       0909802M   2002-01-04   2002-12-12         EWR   \n",
       "1       0202417M   2002-02-02   2004-01-16         SEA   \n",
       "2       0202445M   2002-02-04   2003-11-26         STL   \n",
       "3       0909816M   2002-02-07   2003-01-06         MIA   \n",
       "4  2005032379513   2002-02-18   2005-02-05         MCO   \n",
       "\n",
       "                       AirportName           AirlineName        ClaimType  \\\n",
       "0     Newark International Airport  Continental Airlines  Property Damage   \n",
       "1     Seattle-Tacoma International                   NaN  Property Damage   \n",
       "2  Lambert St. Louis International     American Airlines  Property Damage   \n",
       "3      Miami International Airport     American Airlines  Property Damage   \n",
       "4    Orlando International Airport          Delta (Song)  Property Damage   \n",
       "\n",
       "         ClaimSite                                        Item  ClaimAmount  \\\n",
       "0       Checkpoint                                       Other       350.00   \n",
       "1  Checked Baggage   Luggage (all types including footlockers)       100.00   \n",
       "2  Checked Baggage                                 Cell Phones       278.88   \n",
       "3       Checkpoint   Luggage (all types including footlockers)        50.00   \n",
       "4       Checkpoint  Baby - Strollers; car seats; playpen; etc.        84.79   \n",
       "\n",
       "     Status  CloseAmount Disposition  \n",
       "0  Approved       350.00    Approved  \n",
       "1   Settled        50.00     Settled  \n",
       "2   Settled       227.92     Settled  \n",
       "3  Approved        50.00    Approved  \n",
       "4  Approved        84.79    Approved  "
      ]
     },
     "execution_count": 1111,
     "metadata": {},
     "output_type": "execute_result"
    }
   ],
   "source": [
    "claims.head()"
   ]
  },
  {
   "cell_type": "markdown",
   "metadata": {},
   "source": [
    "My Formula = Approved Status count / total Status count * 100"
   ]
  },
  {
   "cell_type": "code",
   "execution_count": 1116,
   "metadata": {},
   "outputs": [
    {
     "data": {
      "text/plain": [
       "Denied      54091\n",
       "Approved    33916\n",
       "Settled     24615\n",
       "Canceled     2917\n",
       "Other         991\n",
       "Name: Status, dtype: int64"
      ]
     },
     "execution_count": 1116,
     "metadata": {},
     "output_type": "execute_result"
    }
   ],
   "source": [
    "claims.Status.value_counts(dropna=False)"
   ]
  },
  {
   "cell_type": "code",
   "execution_count": 1110,
   "metadata": {},
   "outputs": [
    {
     "name": "stdout",
     "output_type": "stream",
     "text": [
      "33916\n"
     ]
    }
   ],
   "source": [
    "# Getting count of claims with 'Approved' status\n",
    "approved_count = claims['Status'].str.contains('Approved').sum()\n",
    "print(approved_count)\n"
   ]
  },
  {
   "cell_type": "code",
   "execution_count": 1115,
   "metadata": {},
   "outputs": [
    {
     "data": {
      "text/plain": [
       "116530"
      ]
     },
     "execution_count": 1115,
     "metadata": {},
     "output_type": "execute_result"
    }
   ],
   "source": [
    "# Getting count of all claims status\n",
    "status_count = claims['Status'].count()\n",
    "status_count"
   ]
  },
  {
   "cell_type": "code",
   "execution_count": 1117,
   "metadata": {},
   "outputs": [
    {
     "data": {
      "text/plain": [
       "29.104951514631427"
      ]
     },
     "execution_count": 1117,
     "metadata": {},
     "output_type": "execute_result"
    }
   ],
   "source": [
    "# Getting the percentage of approved claims\n",
    "approved_percentage = (approved_count / status_count) * 100\n",
    "approved_percentage"
   ]
  },
  {
   "cell_type": "code",
   "execution_count": 1123,
   "metadata": {},
   "outputs": [
    {
     "data": {
      "text/plain": [
       "<AxesSubplot:title={'center':'Status of Claims'}, ylabel='Status'>"
      ]
     },
     "execution_count": 1123,
     "metadata": {},
     "output_type": "execute_result"
    },
    {
     "data": {
      "image/png": "[encoded data removed]",
      "text/plain": [
       "<Figure size 504x504 with 1 Axes>"
      ]
     },
     "metadata": {},
     "output_type": "display_data"
    }
   ],
   "source": [
    "status = claims['Status'].value_counts()\n",
    "status = pd.DataFrame(status)\n",
    "# The percentage of each status\n",
    "status.plot(kind='pie', autopct='%1.1f%%', y='Status', startangle=90, title='Status of Claims', figsize=(7, 7))"
   ]
  },
  {
   "cell_type": "markdown",
   "metadata": {},
   "source": [
    "<hr>"
   ]
  },
  {
   "cell_type": "markdown",
   "metadata": {},
   "source": [
    "# Task 6\n",
    "### If a claim is approved or settled, what percent of the claim amount do the airports pay?"
   ]
  },
  {
   "cell_type": "code",
   "execution_count": 1125,
   "metadata": {},
   "outputs": [
    {
     "data": {
      "text/html": [
       "<div>\n",
       "<style scoped>\n",
       "    .dataframe tbody tr th:only-of-type {\n",
       "        vertical-align: middle;\n",
       "    }\n",
       "\n",
       "    .dataframe tbody tr th {\n",
       "        vertical-align: top;\n",
       "    }\n",
       "\n",
       "    .dataframe thead th {\n",
       "        text-align: right;\n",
       "    }\n",
       "</style>\n",
       "<table border=\"1\" class=\"dataframe\">\n",
       "  <thead>\n",
       "    <tr style=\"text-align: right;\">\n",
       "      <th></th>\n",
       "      <th>ClaimNumber</th>\n",
       "      <th>DateReceived</th>\n",
       "      <th>IncidentDate</th>\n",
       "      <th>AirportCode</th>\n",
       "      <th>AirportName</th>\n",
       "      <th>AirlineName</th>\n",
       "      <th>ClaimType</th>\n",
       "      <th>ClaimSite</th>\n",
       "      <th>Item</th>\n",
       "      <th>ClaimAmount</th>\n",
       "      <th>Status</th>\n",
       "      <th>CloseAmount</th>\n",
       "      <th>Disposition</th>\n",
       "    </tr>\n",
       "  </thead>\n",
       "  <tbody>\n",
       "    <tr>\n",
       "      <th>0</th>\n",
       "      <td>0909802M</td>\n",
       "      <td>2002-01-04</td>\n",
       "      <td>2002-12-12</td>\n",
       "      <td>EWR</td>\n",
       "      <td>Newark International Airport</td>\n",
       "      <td>Continental Airlines</td>\n",
       "      <td>Property Damage</td>\n",
       "      <td>Checkpoint</td>\n",
       "      <td>Other</td>\n",
       "      <td>350.00</td>\n",
       "      <td>Approved</td>\n",
       "      <td>350.00</td>\n",
       "      <td>Approved</td>\n",
       "    </tr>\n",
       "    <tr>\n",
       "      <th>1</th>\n",
       "      <td>0202417M</td>\n",
       "      <td>2002-02-02</td>\n",
       "      <td>2004-01-16</td>\n",
       "      <td>SEA</td>\n",
       "      <td>Seattle-Tacoma International</td>\n",
       "      <td>NaN</td>\n",
       "      <td>Property Damage</td>\n",
       "      <td>Checked Baggage</td>\n",
       "      <td>Luggage (all types including footlockers)</td>\n",
       "      <td>100.00</td>\n",
       "      <td>Settled</td>\n",
       "      <td>50.00</td>\n",
       "      <td>Settled</td>\n",
       "    </tr>\n",
       "    <tr>\n",
       "      <th>2</th>\n",
       "      <td>0202445M</td>\n",
       "      <td>2002-02-04</td>\n",
       "      <td>2003-11-26</td>\n",
       "      <td>STL</td>\n",
       "      <td>Lambert St. Louis International</td>\n",
       "      <td>American Airlines</td>\n",
       "      <td>Property Damage</td>\n",
       "      <td>Checked Baggage</td>\n",
       "      <td>Cell Phones</td>\n",
       "      <td>278.88</td>\n",
       "      <td>Settled</td>\n",
       "      <td>227.92</td>\n",
       "      <td>Settled</td>\n",
       "    </tr>\n",
       "    <tr>\n",
       "      <th>3</th>\n",
       "      <td>0909816M</td>\n",
       "      <td>2002-02-07</td>\n",
       "      <td>2003-01-06</td>\n",
       "      <td>MIA</td>\n",
       "      <td>Miami International Airport</td>\n",
       "      <td>American Airlines</td>\n",
       "      <td>Property Damage</td>\n",
       "      <td>Checkpoint</td>\n",
       "      <td>Luggage (all types including footlockers)</td>\n",
       "      <td>50.00</td>\n",
       "      <td>Approved</td>\n",
       "      <td>50.00</td>\n",
       "      <td>Approved</td>\n",
       "    </tr>\n",
       "    <tr>\n",
       "      <th>4</th>\n",
       "      <td>2005032379513</td>\n",
       "      <td>2002-02-18</td>\n",
       "      <td>2005-02-05</td>\n",
       "      <td>MCO</td>\n",
       "      <td>Orlando International Airport</td>\n",
       "      <td>Delta (Song)</td>\n",
       "      <td>Property Damage</td>\n",
       "      <td>Checkpoint</td>\n",
       "      <td>Baby - Strollers; car seats; playpen; etc.</td>\n",
       "      <td>84.79</td>\n",
       "      <td>Approved</td>\n",
       "      <td>84.79</td>\n",
       "      <td>Approved</td>\n",
       "    </tr>\n",
       "  </tbody>\n",
       "</table>\n",
       "</div>"
      ],
      "text/plain": [
       "     ClaimNumber DateReceived IncidentDate AirportCode  \\\n",
       "0       0909802M   2002-01-04   2002-12-12         EWR   \n",
       "1       0202417M   2002-02-02   2004-01-16         SEA   \n",
       "2       0202445M   2002-02-04   2003-11-26         STL   \n",
       "3       0909816M   2002-02-07   2003-01-06         MIA   \n",
       "4  2005032379513   2002-02-18   2005-02-05         MCO   \n",
       "\n",
       "                       AirportName           AirlineName        ClaimType  \\\n",
       "0     Newark International Airport  Continental Airlines  Property Damage   \n",
       "1     Seattle-Tacoma International                   NaN  Property Damage   \n",
       "2  Lambert St. Louis International     American Airlines  Property Damage   \n",
       "3      Miami International Airport     American Airlines  Property Damage   \n",
       "4    Orlando International Airport          Delta (Song)  Property Damage   \n",
       "\n",
       "         ClaimSite                                        Item  ClaimAmount  \\\n",
       "0       Checkpoint                                       Other       350.00   \n",
       "1  Checked Baggage   Luggage (all types including footlockers)       100.00   \n",
       "2  Checked Baggage                                 Cell Phones       278.88   \n",
       "3       Checkpoint   Luggage (all types including footlockers)        50.00   \n",
       "4       Checkpoint  Baby - Strollers; car seats; playpen; etc.        84.79   \n",
       "\n",
       "     Status  CloseAmount Disposition  \n",
       "0  Approved       350.00    Approved  \n",
       "1   Settled        50.00     Settled  \n",
       "2   Settled       227.92     Settled  \n",
       "3  Approved        50.00    Approved  \n",
       "4  Approved        84.79    Approved  "
      ]
     },
     "execution_count": 1125,
     "metadata": {},
     "output_type": "execute_result"
    }
   ],
   "source": [
    "\n",
    "#Filtering the data to get approved and settled status\n",
    "approved_or_settled = claims[claims['Status'].isin(['Approved', 'Settled'])]\n",
    "approved_or_settled.head()\n"
   ]
  },
  {
   "cell_type": "code",
   "execution_count": 1131,
   "metadata": {},
   "outputs": [
    {
     "data": {
      "text/html": [
       "<div>\n",
       "<style scoped>\n",
       "    .dataframe tbody tr th:only-of-type {\n",
       "        vertical-align: middle;\n",
       "    }\n",
       "\n",
       "    .dataframe tbody tr th {\n",
       "        vertical-align: top;\n",
       "    }\n",
       "\n",
       "    .dataframe thead th {\n",
       "        text-align: right;\n",
       "    }\n",
       "</style>\n",
       "<table border=\"1\" class=\"dataframe\">\n",
       "  <thead>\n",
       "    <tr style=\"text-align: right;\">\n",
       "      <th></th>\n",
       "      <th>Total Claim Amount</th>\n",
       "      <th>Total Close Amount</th>\n",
       "      <th>Percentage Paid</th>\n",
       "    </tr>\n",
       "  </thead>\n",
       "  <tbody>\n",
       "    <tr>\n",
       "      <th>0</th>\n",
       "      <td>10107423.57</td>\n",
       "      <td>7097153.23</td>\n",
       "      <td>70.217234</td>\n",
       "    </tr>\n",
       "  </tbody>\n",
       "</table>\n",
       "</div>"
      ],
      "text/plain": [
       "   Total Claim Amount  Total Close Amount  Percentage Paid\n",
       "0         10107423.57          7097153.23        70.217234"
      ]
     },
     "execution_count": 1131,
     "metadata": {},
     "output_type": "execute_result"
    }
   ],
   "source": [
    "total_claimAmount = approved_or_settled['ClaimAmount'].sum()\n",
    "\n",
    "total_closeAmount = approved_or_settled['CloseAmount'].sum()\n",
    "total_claimAmount, total_closeAmount\n",
    "\n",
    "total_closeAmount / total_claimAmount * 100\n",
    "\n",
    "# Create DataFrame to show the numbers\n",
    "approved_settled = pd.DataFrame({\n",
    "    'Total Claim Amount': [total_claimAmount],\n",
    "    'Total Close Amount': [total_closeAmount],\n",
    "    'Percentage Paid': [total_closeAmount / total_claimAmount * 100]\n",
    "})\n",
    "approved_settled"
   ]
  },
  {
   "cell_type": "markdown",
   "metadata": {},
   "source": [
    "<hr>"
   ]
  },
  {
   "cell_type": "markdown",
   "metadata": {},
   "source": [
    "# Task 7\n",
    "### What are the five airports with the most claims?"
   ]
  },
  {
   "cell_type": "code",
   "execution_count": 1142,
   "metadata": {},
   "outputs": [
    {
     "data": {
      "text/html": [
       "<div>\n",
       "<style scoped>\n",
       "    .dataframe tbody tr th:only-of-type {\n",
       "        vertical-align: middle;\n",
       "    }\n",
       "\n",
       "    .dataframe tbody tr th {\n",
       "        vertical-align: top;\n",
       "    }\n",
       "\n",
       "    .dataframe thead th {\n",
       "        text-align: right;\n",
       "    }\n",
       "</style>\n",
       "<table border=\"1\" class=\"dataframe\">\n",
       "  <thead>\n",
       "    <tr style=\"text-align: right;\">\n",
       "      <th></th>\n",
       "      <th>AirportName</th>\n",
       "      <th>ClaimType</th>\n",
       "    </tr>\n",
       "  </thead>\n",
       "  <tbody>\n",
       "    <tr>\n",
       "      <th>0</th>\n",
       "      <td>Los Angeles International Airport</td>\n",
       "      <td>4826</td>\n",
       "    </tr>\n",
       "    <tr>\n",
       "      <th>1</th>\n",
       "      <td>Chicago O'Hare International Airport</td>\n",
       "      <td>3984</td>\n",
       "    </tr>\n",
       "    <tr>\n",
       "      <th>2</th>\n",
       "      <td>John F. Kennedy International</td>\n",
       "      <td>3786</td>\n",
       "    </tr>\n",
       "    <tr>\n",
       "      <th>3</th>\n",
       "      <td>Newark International Airport</td>\n",
       "      <td>3779</td>\n",
       "    </tr>\n",
       "    <tr>\n",
       "      <th>4</th>\n",
       "      <td>Miami International Airport</td>\n",
       "      <td>3284</td>\n",
       "    </tr>\n",
       "  </tbody>\n",
       "</table>\n",
       "</div>"
      ],
      "text/plain": [
       "                            AirportName  ClaimType\n",
       "0     Los Angeles International Airport       4826\n",
       "1  Chicago O'Hare International Airport       3984\n",
       "2         John F. Kennedy International       3786\n",
       "3          Newark International Airport       3779\n",
       "4           Miami International Airport       3284"
      ]
     },
     "execution_count": 1142,
     "metadata": {},
     "output_type": "execute_result"
    }
   ],
   "source": [
    "#Grouping the data by AirportName and counting the number of claims\n",
    "grouped_airports = claims.groupby('AirportName').agg({'ClaimType': 'count'})\n",
    "\n",
    "#gETTING the top 5 airports with the most claims\n",
    "grouped_airports = grouped_airports.sort_values(by='ClaimType', ascending=False).head(5)\n",
    "grouped_airports.reset_index(inplace=True)\n",
    "grouped_airports"
   ]
  },
  {
   "cell_type": "code",
   "execution_count": 1143,
   "metadata": {},
   "outputs": [
    {
     "data": {
      "image/png": "[encoded data removed]",
      "text/plain": [
       "<Figure size 360x360 with 1 Axes>"
      ]
     },
     "metadata": {
      "needs_background": "light"
     },
     "output_type": "display_data"
    }
   ],
   "source": [
    "#Plotting the top 5 airports with the most claims\n",
    "sns.catplot(data=grouped_airports, x='AirportName', y='ClaimType', kind='bar', palette='bright')\n",
    "\n",
    "#Rotating the x-axis labels\n",
    "plt.xticks(rotation=90)\n",
    "\n",
    "#Adding the title\n",
    "plt.title('Top 5 Airports with the Most Claims')\n",
    "plt.show()"
   ]
  },
  {
   "cell_type": "markdown",
   "metadata": {},
   "source": [
    "<hr>"
   ]
  },
  {
   "cell_type": "markdown",
   "metadata": {},
   "source": [
    "# Task 8\n",
    "### Has the total close amount increased or decreased over time?"
   ]
  },
  {
   "cell_type": "code",
   "execution_count": 1159,
   "metadata": {},
   "outputs": [
    {
     "data": {
      "text/html": [
       "<div>\n",
       "<style scoped>\n",
       "    .dataframe tbody tr th:only-of-type {\n",
       "        vertical-align: middle;\n",
       "    }\n",
       "\n",
       "    .dataframe tbody tr th {\n",
       "        vertical-align: top;\n",
       "    }\n",
       "\n",
       "    .dataframe thead th {\n",
       "        text-align: right;\n",
       "    }\n",
       "</style>\n",
       "<table border=\"1\" class=\"dataframe\">\n",
       "  <thead>\n",
       "    <tr style=\"text-align: right;\">\n",
       "      <th></th>\n",
       "      <th>ClaimNumber</th>\n",
       "      <th>DateReceived</th>\n",
       "      <th>IncidentDate</th>\n",
       "      <th>AirportCode</th>\n",
       "      <th>AirportName</th>\n",
       "      <th>AirlineName</th>\n",
       "      <th>ClaimType</th>\n",
       "      <th>ClaimSite</th>\n",
       "      <th>Item</th>\n",
       "      <th>ClaimAmount</th>\n",
       "      <th>Status</th>\n",
       "      <th>CloseAmount</th>\n",
       "      <th>Disposition</th>\n",
       "    </tr>\n",
       "  </thead>\n",
       "  <tbody>\n",
       "    <tr>\n",
       "      <th>140411</th>\n",
       "      <td>2009080762402</td>\n",
       "      <td>2009-08-06</td>\n",
       "      <td>2010-06-22 00:00:00</td>\n",
       "      <td>MIA</td>\n",
       "      <td>Miami International Airport</td>\n",
       "      <td>American Airlines</td>\n",
       "      <td>Passenger Property Loss</td>\n",
       "      <td>Checked Baggage</td>\n",
       "      <td>Locks</td>\n",
       "      <td>10.89</td>\n",
       "      <td>Denied</td>\n",
       "      <td>0.0</td>\n",
       "      <td>Denied</td>\n",
       "    </tr>\n",
       "    <tr>\n",
       "      <th>133451</th>\n",
       "      <td>2010020168122</td>\n",
       "      <td>2009-01-28</td>\n",
       "      <td>2010-01-27 06:45:00</td>\n",
       "      <td>SAT</td>\n",
       "      <td>San Antonio International</td>\n",
       "      <td>Continental Airlines</td>\n",
       "      <td>Property Damage</td>\n",
       "      <td>Checked Baggage</td>\n",
       "      <td>Cameras - Digital</td>\n",
       "      <td>108.20</td>\n",
       "      <td>Denied</td>\n",
       "      <td>0.0</td>\n",
       "      <td>Denied</td>\n",
       "    </tr>\n",
       "    <tr>\n",
       "      <th>143755</th>\n",
       "      <td>2010012968052</td>\n",
       "      <td>2009-11-17</td>\n",
       "      <td>2010-01-26 11:48:00</td>\n",
       "      <td>IAD</td>\n",
       "      <td>Washington Dulles International</td>\n",
       "      <td>Lufthansa</td>\n",
       "      <td>Passenger Property Loss</td>\n",
       "      <td>Checked Baggage</td>\n",
       "      <td>Handbags &amp; Purses (leather or fabric)</td>\n",
       "      <td>49.95</td>\n",
       "      <td>Denied</td>\n",
       "      <td>0.0</td>\n",
       "      <td>Denied</td>\n",
       "    </tr>\n",
       "    <tr>\n",
       "      <th>144070</th>\n",
       "      <td>2010011367524</td>\n",
       "      <td>2009-11-27</td>\n",
       "      <td>2010-01-13 00:00:00</td>\n",
       "      <td>MCO</td>\n",
       "      <td>Orlando International Airport</td>\n",
       "      <td>Jet Blue</td>\n",
       "      <td>Passenger Property Loss</td>\n",
       "      <td>Checked Baggage</td>\n",
       "      <td>Jewelry - Fine</td>\n",
       "      <td>600.00</td>\n",
       "      <td>Denied</td>\n",
       "      <td>0.0</td>\n",
       "      <td>Denied</td>\n",
       "    </tr>\n",
       "    <tr>\n",
       "      <th>144803</th>\n",
       "      <td>2010011467584</td>\n",
       "      <td>2009-12-18</td>\n",
       "      <td>2010-01-12 15:20:00</td>\n",
       "      <td>RIC</td>\n",
       "      <td>Richmond International</td>\n",
       "      <td>Delta Air Lines</td>\n",
       "      <td>Property Damage</td>\n",
       "      <td>Checkpoint</td>\n",
       "      <td>Computer - Laptop</td>\n",
       "      <td>364.00</td>\n",
       "      <td>Approved</td>\n",
       "      <td>364.0</td>\n",
       "      <td>Approved</td>\n",
       "    </tr>\n",
       "  </tbody>\n",
       "</table>\n",
       "</div>"
      ],
      "text/plain": [
       "          ClaimNumber DateReceived        IncidentDate AirportCode  \\\n",
       "140411  2009080762402   2009-08-06 2010-06-22 00:00:00         MIA   \n",
       "133451  2010020168122   2009-01-28 2010-01-27 06:45:00         SAT   \n",
       "143755  2010012968052   2009-11-17 2010-01-26 11:48:00         IAD   \n",
       "144070  2010011367524   2009-11-27 2010-01-13 00:00:00         MCO   \n",
       "144803  2010011467584   2009-12-18 2010-01-12 15:20:00         RIC   \n",
       "\n",
       "                            AirportName           AirlineName  \\\n",
       "140411      Miami International Airport     American Airlines   \n",
       "133451        San Antonio International  Continental Airlines   \n",
       "143755  Washington Dulles International             Lufthansa   \n",
       "144070    Orlando International Airport              Jet Blue   \n",
       "144803           Richmond International       Delta Air Lines   \n",
       "\n",
       "                      ClaimType        ClaimSite  \\\n",
       "140411  Passenger Property Loss  Checked Baggage   \n",
       "133451          Property Damage  Checked Baggage   \n",
       "143755  Passenger Property Loss  Checked Baggage   \n",
       "144070  Passenger Property Loss  Checked Baggage   \n",
       "144803          Property Damage       Checkpoint   \n",
       "\n",
       "                                         Item  ClaimAmount    Status  \\\n",
       "140411                                  Locks        10.89    Denied   \n",
       "133451                      Cameras - Digital       108.20    Denied   \n",
       "143755  Handbags & Purses (leather or fabric)        49.95    Denied   \n",
       "144070                         Jewelry - Fine       600.00    Denied   \n",
       "144803                      Computer - Laptop       364.00  Approved   \n",
       "\n",
       "        CloseAmount Disposition  \n",
       "140411          0.0      Denied  \n",
       "133451          0.0      Denied  \n",
       "143755          0.0      Denied  \n",
       "144070          0.0      Denied  \n",
       "144803        364.0    Approved  "
      ]
     },
     "execution_count": 1159,
     "metadata": {},
     "output_type": "execute_result"
    }
   ],
   "source": [
    "claims = claims.sort_values(by='IncidentDate', ascending=False)\n",
    "claims.head()"
   ]
  },
  {
   "cell_type": "code",
   "execution_count": 1154,
   "metadata": {},
   "outputs": [
    {
     "data": {
      "text/html": [
       "<div>\n",
       "<style scoped>\n",
       "    .dataframe tbody tr th:only-of-type {\n",
       "        vertical-align: middle;\n",
       "    }\n",
       "\n",
       "    .dataframe tbody tr th {\n",
       "        vertical-align: top;\n",
       "    }\n",
       "\n",
       "    .dataframe thead th {\n",
       "        text-align: right;\n",
       "    }\n",
       "</style>\n",
       "<table border=\"1\" class=\"dataframe\">\n",
       "  <thead>\n",
       "    <tr style=\"text-align: right;\">\n",
       "      <th></th>\n",
       "      <th>IncidentDate</th>\n",
       "      <th>CloseAmount</th>\n",
       "    </tr>\n",
       "  </thead>\n",
       "  <tbody>\n",
       "    <tr>\n",
       "      <th>0</th>\n",
       "      <td>2000-01-01 00:00:00</td>\n",
       "      <td>130.00</td>\n",
       "    </tr>\n",
       "    <tr>\n",
       "      <th>1</th>\n",
       "      <td>2000-09-23 00:00:00</td>\n",
       "      <td>15.00</td>\n",
       "    </tr>\n",
       "    <tr>\n",
       "      <th>2</th>\n",
       "      <td>2000-10-23 00:00:00</td>\n",
       "      <td>12.72</td>\n",
       "    </tr>\n",
       "    <tr>\n",
       "      <th>3</th>\n",
       "      <td>2000-11-27 00:00:00</td>\n",
       "      <td>50.00</td>\n",
       "    </tr>\n",
       "    <tr>\n",
       "      <th>4</th>\n",
       "      <td>2000-12-21 00:00:00</td>\n",
       "      <td>20.33</td>\n",
       "    </tr>\n",
       "    <tr>\n",
       "      <th>...</th>\n",
       "      <td>...</td>\n",
       "      <td>...</td>\n",
       "    </tr>\n",
       "    <tr>\n",
       "      <th>3093</th>\n",
       "      <td>2009-12-22 16:30:00</td>\n",
       "      <td>25.00</td>\n",
       "    </tr>\n",
       "    <tr>\n",
       "      <th>3094</th>\n",
       "      <td>2009-12-23 00:00:00</td>\n",
       "      <td>117.28</td>\n",
       "    </tr>\n",
       "    <tr>\n",
       "      <th>3095</th>\n",
       "      <td>2009-12-27 13:00:00</td>\n",
       "      <td>429.30</td>\n",
       "    </tr>\n",
       "    <tr>\n",
       "      <th>3096</th>\n",
       "      <td>2009-12-28 00:00:00</td>\n",
       "      <td>200.00</td>\n",
       "    </tr>\n",
       "    <tr>\n",
       "      <th>3097</th>\n",
       "      <td>2010-01-12 15:20:00</td>\n",
       "      <td>364.00</td>\n",
       "    </tr>\n",
       "  </tbody>\n",
       "</table>\n",
       "<p>3098 rows × 2 columns</p>\n",
       "</div>"
      ],
      "text/plain": [
       "            IncidentDate  CloseAmount\n",
       "0    2000-01-01 00:00:00       130.00\n",
       "1    2000-09-23 00:00:00        15.00\n",
       "2    2000-10-23 00:00:00        12.72\n",
       "3    2000-11-27 00:00:00        50.00\n",
       "4    2000-12-21 00:00:00        20.33\n",
       "...                  ...          ...\n",
       "3093 2009-12-22 16:30:00        25.00\n",
       "3094 2009-12-23 00:00:00       117.28\n",
       "3095 2009-12-27 13:00:00       429.30\n",
       "3096 2009-12-28 00:00:00       200.00\n",
       "3097 2010-01-12 15:20:00       364.00\n",
       "\n",
       "[3098 rows x 2 columns]"
      ]
     },
     "execution_count": 1154,
     "metadata": {},
     "output_type": "execute_result"
    }
   ],
   "source": [
    "#Getting close amount over time\n",
    "closeAmountOverTime = approved_or_settled.groupby('IncidentDate').agg({'CloseAmount': 'sum'})\n",
    "closeAmountOverTime.reset_index(inplace=True)\n",
    "closeAmountOverTime"
   ]
  },
  {
   "cell_type": "code",
   "execution_count": 1165,
   "metadata": {},
   "outputs": [
    {
     "data": {
      "text/html": [
       "<div>\n",
       "<style scoped>\n",
       "    .dataframe tbody tr th:only-of-type {\n",
       "        vertical-align: middle;\n",
       "    }\n",
       "\n",
       "    .dataframe tbody tr th {\n",
       "        vertical-align: top;\n",
       "    }\n",
       "\n",
       "    .dataframe thead th {\n",
       "        text-align: right;\n",
       "    }\n",
       "</style>\n",
       "<table border=\"1\" class=\"dataframe\">\n",
       "  <thead>\n",
       "    <tr style=\"text-align: right;\">\n",
       "      <th></th>\n",
       "      <th>IncidentDate</th>\n",
       "      <th>CloseAmount</th>\n",
       "    </tr>\n",
       "  </thead>\n",
       "  <tbody>\n",
       "    <tr>\n",
       "      <th>0</th>\n",
       "      <td>2000-01-31</td>\n",
       "      <td>130.00</td>\n",
       "    </tr>\n",
       "    <tr>\n",
       "      <th>1</th>\n",
       "      <td>2000-02-29</td>\n",
       "      <td>0.00</td>\n",
       "    </tr>\n",
       "    <tr>\n",
       "      <th>2</th>\n",
       "      <td>2000-03-31</td>\n",
       "      <td>0.00</td>\n",
       "    </tr>\n",
       "    <tr>\n",
       "      <th>3</th>\n",
       "      <td>2000-04-30</td>\n",
       "      <td>0.00</td>\n",
       "    </tr>\n",
       "    <tr>\n",
       "      <th>4</th>\n",
       "      <td>2000-05-31</td>\n",
       "      <td>0.00</td>\n",
       "    </tr>\n",
       "    <tr>\n",
       "      <th>...</th>\n",
       "      <td>...</td>\n",
       "      <td>...</td>\n",
       "    </tr>\n",
       "    <tr>\n",
       "      <th>116</th>\n",
       "      <td>2009-09-30</td>\n",
       "      <td>21490.91</td>\n",
       "    </tr>\n",
       "    <tr>\n",
       "      <th>117</th>\n",
       "      <td>2009-10-31</td>\n",
       "      <td>26163.14</td>\n",
       "    </tr>\n",
       "    <tr>\n",
       "      <th>118</th>\n",
       "      <td>2009-11-30</td>\n",
       "      <td>25664.37</td>\n",
       "    </tr>\n",
       "    <tr>\n",
       "      <th>119</th>\n",
       "      <td>2009-12-31</td>\n",
       "      <td>13224.86</td>\n",
       "    </tr>\n",
       "    <tr>\n",
       "      <th>120</th>\n",
       "      <td>2010-01-31</td>\n",
       "      <td>364.00</td>\n",
       "    </tr>\n",
       "  </tbody>\n",
       "</table>\n",
       "<p>121 rows × 2 columns</p>\n",
       "</div>"
      ],
      "text/plain": [
       "    IncidentDate  CloseAmount\n",
       "0     2000-01-31       130.00\n",
       "1     2000-02-29         0.00\n",
       "2     2000-03-31         0.00\n",
       "3     2000-04-30         0.00\n",
       "4     2000-05-31         0.00\n",
       "..           ...          ...\n",
       "116   2009-09-30     21490.91\n",
       "117   2009-10-31     26163.14\n",
       "118   2009-11-30     25664.37\n",
       "119   2009-12-31     13224.86\n",
       "120   2010-01-31       364.00\n",
       "\n",
       "[121 rows x 2 columns]"
      ]
     },
     "execution_count": 1165,
     "metadata": {},
     "output_type": "execute_result"
    }
   ],
   "source": [
    "# Resampling the data to get the close amount over Months\n",
    "yearly_closeAmount = closeAmountOverTime.resample('M', on='IncidentDate').sum()\n",
    "yearly_closeAmount.reset_index(inplace=True)\n",
    "yearly_closeAmount"
   ]
  },
  {
   "cell_type": "code",
   "execution_count": 1167,
   "metadata": {},
   "outputs": [
    {
     "data": {
      "image/png": "[encoded data removed]",
      "text/plain": [
       "<Figure size 720x360 with 1 Axes>"
      ]
     },
     "metadata": {
      "needs_background": "light"
     },
     "output_type": "display_data"
    }
   ],
   "source": [
    "#Plotting the close amount over time\n",
    "sns.relplot(data=yearly_closeAmount, x='IncidentDate', y='CloseAmount', kind='line', height=5, aspect=2)\n",
    "\n",
    "#Adding the title\n",
    "plt.title('Close Amount Over Time')\n",
    "plt.show()"
   ]
  },
  {
   "cell_type": "markdown",
   "metadata": {},
   "source": [
    "<hr>"
   ]
  },
  {
   "cell_type": "markdown",
   "metadata": {},
   "source": [
    "# Task 9\n",
    "### Create a map that shows the location of each airport in the continental U.S. and changes the size of the airport’s dot depending on its number of claims."
   ]
  },
  {
   "cell_type": "code",
   "execution_count": 1171,
   "metadata": {},
   "outputs": [
    {
     "ename": "ImportError",
     "evalue": "\n\nIMPORTANT: PLEASE READ THIS FOR ADVICE ON HOW TO SOLVE THIS ISSUE!\n\nImporting the numpy C-extensions failed. This error can happen for\nmany reasons, often due to issues with your setup or how NumPy was\ninstalled.\n\nWe have compiled some common reasons and troubleshooting tips at:\n\n    https://numpy.org/devdocs/user/troubleshooting-importerror.html\n\nPlease note and check the following:\n\n  * The Python version is: Python3.9 from \"c:\\Users\\TSHIAMO\\anaconda3\\python.exe\"\n  * The NumPy version is: \"1.20.3\"\n\nand make sure that they are the versions you expect.\nPlease carefully study the documentation linked above for further help.\n\nOriginal error was: DLL load failed while importing _multiarray_umath: The specified module could not be found.\n",
     "output_type": "error",
     "traceback": [
      "\u001b[1;31m---------------------------------------------------------------------------\u001b[0m",
      "\u001b[1;31mImportError\u001b[0m                               Traceback (most recent call last)",
      "\u001b[1;32mc:\\Users\\TSHIAMO\\anaconda3\\lib\\site-packages\\numpy\\_core\\__init__.py\u001b[0m in \u001b[0;36m<module>\u001b[1;34m\u001b[0m\n\u001b[0;32m     22\u001b[0m \u001b[1;32mtry\u001b[0m\u001b[1;33m:\u001b[0m\u001b[1;33m\u001b[0m\u001b[1;33m\u001b[0m\u001b[0m\n\u001b[1;32m---> 23\u001b[1;33m     \u001b[1;32mfrom\u001b[0m \u001b[1;33m.\u001b[0m \u001b[1;32mimport\u001b[0m \u001b[0mmultiarray\u001b[0m\u001b[1;33m\u001b[0m\u001b[1;33m\u001b[0m\u001b[0m\n\u001b[0m\u001b[0;32m     24\u001b[0m \u001b[1;32mexcept\u001b[0m \u001b[0mImportError\u001b[0m \u001b[1;32mas\u001b[0m \u001b[0mexc\u001b[0m\u001b[1;33m:\u001b[0m\u001b[1;33m\u001b[0m\u001b[1;33m\u001b[0m\u001b[0m\n",
      "\u001b[1;32mc:\\Users\\TSHIAMO\\anaconda3\\lib\\site-packages\\numpy\\_core\\multiarray.py\u001b[0m in \u001b[0;36m<module>\u001b[1;34m\u001b[0m\n\u001b[0;32m      9\u001b[0m \u001b[1;32mimport\u001b[0m \u001b[0mfunctools\u001b[0m\u001b[1;33m\u001b[0m\u001b[1;33m\u001b[0m\u001b[0m\n\u001b[1;32m---> 10\u001b[1;33m \u001b[1;32mfrom\u001b[0m \u001b[1;33m.\u001b[0m \u001b[1;32mimport\u001b[0m \u001b[0moverrides\u001b[0m\u001b[1;33m\u001b[0m\u001b[1;33m\u001b[0m\u001b[0m\n\u001b[0m\u001b[0;32m     11\u001b[0m \u001b[1;32mfrom\u001b[0m \u001b[1;33m.\u001b[0m \u001b[1;32mimport\u001b[0m \u001b[0m_multiarray_umath\u001b[0m\u001b[1;33m\u001b[0m\u001b[1;33m\u001b[0m\u001b[0m\n",
      "\u001b[1;32mc:\\Users\\TSHIAMO\\anaconda3\\lib\\site-packages\\numpy\\_core\\overrides.py\u001b[0m in \u001b[0;36m<module>\u001b[1;34m\u001b[0m\n\u001b[0;32m      7\u001b[0m \u001b[1;32mfrom\u001b[0m \u001b[1;33m.\u001b[0m\u001b[1;33m.\u001b[0m\u001b[0m_utils\u001b[0m\u001b[1;33m.\u001b[0m\u001b[0m_inspect\u001b[0m \u001b[1;32mimport\u001b[0m \u001b[0mgetargspec\u001b[0m\u001b[1;33m\u001b[0m\u001b[1;33m\u001b[0m\u001b[0m\n\u001b[1;32m----> 8\u001b[1;33m from numpy._core._multiarray_umath import (\n\u001b[0m\u001b[0;32m      9\u001b[0m     add_docstring,  _get_implementing_args, _ArrayFunctionDispatcher)\n",
      "\u001b[1;31mImportError\u001b[0m: DLL load failed while importing _multiarray_umath: The specified module could not be found.",
      "\nDuring handling of the above exception, another exception occurred:\n",
      "\u001b[1;31mImportError\u001b[0m                               Traceback (most recent call last)",
      "\u001b[1;32mc:\\Users\\TSHIAMO\\anaconda3\\lib\\site-packages\\numpy\\_core\\__init__.py\u001b[0m in \u001b[0;36m<module>\u001b[1;34m\u001b[0m\n\u001b[0;32m     47\u001b[0m \"\"\" % (sys.version_info[0], sys.version_info[1], sys.executable,\n\u001b[0;32m     48\u001b[0m         __version__, exc)\n\u001b[1;32m---> 49\u001b[1;33m     \u001b[1;32mraise\u001b[0m \u001b[0mImportError\u001b[0m\u001b[1;33m(\u001b[0m\u001b[0mmsg\u001b[0m\u001b[1;33m)\u001b[0m\u001b[1;33m\u001b[0m\u001b[1;33m\u001b[0m\u001b[0m\n\u001b[0m\u001b[0;32m     50\u001b[0m \u001b[1;32mfinally\u001b[0m\u001b[1;33m:\u001b[0m\u001b[1;33m\u001b[0m\u001b[1;33m\u001b[0m\u001b[0m\n\u001b[0;32m     51\u001b[0m     \u001b[1;32mfor\u001b[0m \u001b[0menvkey\u001b[0m \u001b[1;32min\u001b[0m \u001b[0menv_added\u001b[0m\u001b[1;33m:\u001b[0m\u001b[1;33m\u001b[0m\u001b[1;33m\u001b[0m\u001b[0m\n",
      "\u001b[1;31mImportError\u001b[0m: \n\nIMPORTANT: PLEASE READ THIS FOR ADVICE ON HOW TO SOLVE THIS ISSUE!\n\nImporting the numpy C-extensions failed. This error can happen for\nmany reasons, often due to issues with your setup or how NumPy was\ninstalled.\n\nWe have compiled some common reasons and troubleshooting tips at:\n\n    https://numpy.org/devdocs/user/troubleshooting-importerror.html\n\nPlease note and check the following:\n\n  * The Python version is: Python3.9 from \"c:\\Users\\TSHIAMO\\anaconda3\\python.exe\"\n  * The NumPy version is: \"1.20.3\"\n\nand make sure that they are the versions you expect.\nPlease carefully study the documentation linked above for further help.\n\nOriginal error was: DLL load failed while importing _multiarray_umath: The specified module could not be found.\n"
     ]
    },
    {
     "ename": "ImportError",
     "evalue": "numpy._core.multiarray failed to import",
     "output_type": "error",
     "traceback": [
      "\u001b[1;31m---------------------------------------------------------------------------\u001b[0m",
      "\u001b[1;31mImportError\u001b[0m                               Traceback (most recent call last)",
      "\u001b[1;32m~\\AppData\\Local\\Temp/ipykernel_11720/1560255423.py\u001b[0m in \u001b[0;36m<module>\u001b[1;34m\u001b[0m\n\u001b[1;32m----> 1\u001b[1;33m \u001b[1;32mimport\u001b[0m \u001b[0mgeopandas\u001b[0m \u001b[1;32mas\u001b[0m \u001b[0mgeo\u001b[0m\u001b[1;33m\u001b[0m\u001b[1;33m\u001b[0m\u001b[0m\n\u001b[0m",
      "\u001b[1;32mc:\\Users\\TSHIAMO\\anaconda3\\lib\\site-packages\\geopandas\\__init__.py\u001b[0m in \u001b[0;36m<module>\u001b[1;34m\u001b[0m\n\u001b[0;32m      1\u001b[0m \u001b[1;32mfrom\u001b[0m \u001b[0mgeopandas\u001b[0m\u001b[1;33m.\u001b[0m\u001b[0m_config\u001b[0m \u001b[1;32mimport\u001b[0m \u001b[0moptions\u001b[0m\u001b[1;33m\u001b[0m\u001b[1;33m\u001b[0m\u001b[0m\n\u001b[0;32m      2\u001b[0m \u001b[1;33m\u001b[0m\u001b[0m\n\u001b[1;32m----> 3\u001b[1;33m \u001b[1;32mfrom\u001b[0m \u001b[0mgeopandas\u001b[0m\u001b[1;33m.\u001b[0m\u001b[0mgeoseries\u001b[0m \u001b[1;32mimport\u001b[0m \u001b[0mGeoSeries\u001b[0m\u001b[1;33m\u001b[0m\u001b[1;33m\u001b[0m\u001b[0m\n\u001b[0m\u001b[0;32m      4\u001b[0m \u001b[1;32mfrom\u001b[0m \u001b[0mgeopandas\u001b[0m\u001b[1;33m.\u001b[0m\u001b[0mgeodataframe\u001b[0m \u001b[1;32mimport\u001b[0m \u001b[0mGeoDataFrame\u001b[0m\u001b[1;33m\u001b[0m\u001b[1;33m\u001b[0m\u001b[0m\n\u001b[0;32m      5\u001b[0m \u001b[1;32mfrom\u001b[0m \u001b[0mgeopandas\u001b[0m\u001b[1;33m.\u001b[0m\u001b[0marray\u001b[0m \u001b[1;32mimport\u001b[0m \u001b[0mpoints_from_xy\u001b[0m\u001b[1;33m\u001b[0m\u001b[1;33m\u001b[0m\u001b[0m\n",
      "\u001b[1;32mc:\\Users\\TSHIAMO\\anaconda3\\lib\\site-packages\\geopandas\\geoseries.py\u001b[0m in \u001b[0;36m<module>\u001b[1;34m\u001b[0m\n\u001b[0;32m     11\u001b[0m \u001b[1;32mfrom\u001b[0m \u001b[0mpandas\u001b[0m\u001b[1;33m.\u001b[0m\u001b[0mcore\u001b[0m\u001b[1;33m.\u001b[0m\u001b[0minternals\u001b[0m \u001b[1;32mimport\u001b[0m \u001b[0mSingleBlockManager\u001b[0m\u001b[1;33m\u001b[0m\u001b[1;33m\u001b[0m\u001b[0m\n\u001b[0;32m     12\u001b[0m \u001b[1;33m\u001b[0m\u001b[0m\n\u001b[1;32m---> 13\u001b[1;33m \u001b[1;32mimport\u001b[0m \u001b[0mshapely\u001b[0m\u001b[1;33m\u001b[0m\u001b[1;33m\u001b[0m\u001b[0m\n\u001b[0m\u001b[0;32m     14\u001b[0m \u001b[1;32mfrom\u001b[0m \u001b[0mshapely\u001b[0m\u001b[1;33m.\u001b[0m\u001b[0mgeometry\u001b[0m \u001b[1;32mimport\u001b[0m \u001b[0mGeometryCollection\u001b[0m\u001b[1;33m\u001b[0m\u001b[1;33m\u001b[0m\u001b[0m\n\u001b[0;32m     15\u001b[0m \u001b[1;32mfrom\u001b[0m \u001b[0mshapely\u001b[0m\u001b[1;33m.\u001b[0m\u001b[0mgeometry\u001b[0m\u001b[1;33m.\u001b[0m\u001b[0mbase\u001b[0m \u001b[1;32mimport\u001b[0m \u001b[0mBaseGeometry\u001b[0m\u001b[1;33m\u001b[0m\u001b[1;33m\u001b[0m\u001b[0m\n",
      "\u001b[1;32mc:\\Users\\TSHIAMO\\anaconda3\\lib\\site-packages\\shapely\\__init__.py\u001b[0m in \u001b[0;36m<module>\u001b[1;34m\u001b[0m\n\u001b[0;32m     27\u001b[0m \u001b[1;31m# end delvewheel patch\u001b[0m\u001b[1;33m\u001b[0m\u001b[1;33m\u001b[0m\u001b[0m\n\u001b[0;32m     28\u001b[0m \u001b[1;33m\u001b[0m\u001b[0m\n\u001b[1;32m---> 29\u001b[1;33m \u001b[1;32mfrom\u001b[0m \u001b[0mshapely\u001b[0m\u001b[1;33m.\u001b[0m\u001b[0mlib\u001b[0m \u001b[1;32mimport\u001b[0m \u001b[0mGEOSException\u001b[0m  \u001b[1;31m# NOQA\u001b[0m\u001b[1;33m\u001b[0m\u001b[1;33m\u001b[0m\u001b[0m\n\u001b[0m\u001b[0;32m     30\u001b[0m \u001b[1;32mfrom\u001b[0m \u001b[0mshapely\u001b[0m\u001b[1;33m.\u001b[0m\u001b[0mlib\u001b[0m \u001b[1;32mimport\u001b[0m \u001b[0mGeometry\u001b[0m  \u001b[1;31m# NOQA\u001b[0m\u001b[1;33m\u001b[0m\u001b[1;33m\u001b[0m\u001b[0m\n\u001b[0;32m     31\u001b[0m \u001b[1;32mfrom\u001b[0m \u001b[0mshapely\u001b[0m\u001b[1;33m.\u001b[0m\u001b[0mlib\u001b[0m \u001b[1;32mimport\u001b[0m \u001b[0mgeos_version\u001b[0m\u001b[1;33m,\u001b[0m \u001b[0mgeos_version_string\u001b[0m  \u001b[1;31m# NOQA\u001b[0m\u001b[1;33m\u001b[0m\u001b[1;33m\u001b[0m\u001b[0m\n",
      "\u001b[1;31mImportError\u001b[0m: numpy._core.multiarray failed to import"
     ]
    }
   ],
   "source": [
    "import geopandas as geo\n"
   ]
  },
  {
   "cell_type": "markdown",
   "metadata": {},
   "source": [
    "# GITHUB"
   ]
  }
 ],
 "metadata": {
  "kernelspec": {
   "display_name": "base",
   "language": "python",
   "name": "python3"
  },
  "language_info": {
   "codemirror_mode": {
    "name": "ipython",
    "version": 3
   },
   "file_extension": ".py",
   "mimetype": "text/x-python",
   "name": "python",
   "nbconvert_exporter": "python",
   "pygments_lexer": "ipython3",
   "version": "3.9.7"
  }
 },
 "nbformat": 4,
 "nbformat_minor": 2
}
