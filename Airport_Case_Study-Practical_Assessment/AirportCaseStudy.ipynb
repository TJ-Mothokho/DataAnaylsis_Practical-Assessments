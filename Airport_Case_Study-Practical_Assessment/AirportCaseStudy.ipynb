{
 "cells": [
  {
   "cell_type": "code",
   "execution_count": 176,
   "metadata": {},
   "outputs": [],
   "source": [
    "import pandas as pd\n",
    "import seaborn as sns\n",
    "import matplotlib.pyplot as plt"
   ]
  },
  {
   "cell_type": "code",
   "execution_count": 177,
   "metadata": {},
   "outputs": [
    {
     "name": "stderr",
     "output_type": "stream",
     "text": [
      "c:\\Users\\TSHIAMO\\anaconda3\\lib\\site-packages\\IPython\\core\\interactiveshell.py:3444: DtypeWarning: Columns (0,11,12) have mixed types.Specify dtype option on import or set low_memory=False.\n",
      "  exec(code_obj, self.user_global_ns, self.user_ns)\n"
     ]
    },
    {
     "data": {
      "text/html": [
       "<div>\n",
       "<style scoped>\n",
       "    .dataframe tbody tr th:only-of-type {\n",
       "        vertical-align: middle;\n",
       "    }\n",
       "\n",
       "    .dataframe tbody tr th {\n",
       "        vertical-align: top;\n",
       "    }\n",
       "\n",
       "    .dataframe thead th {\n",
       "        text-align: right;\n",
       "    }\n",
       "</style>\n",
       "<table border=\"1\" class=\"dataframe\">\n",
       "  <thead>\n",
       "    <tr style=\"text-align: right;\">\n",
       "      <th></th>\n",
       "      <th>Claim Number</th>\n",
       "      <th>Date Received</th>\n",
       "      <th>Incident Date</th>\n",
       "      <th>Airport Code</th>\n",
       "      <th>Airport Name</th>\n",
       "      <th>Airline Name</th>\n",
       "      <th>Claim Type</th>\n",
       "      <th>Claim Site</th>\n",
       "      <th>Item</th>\n",
       "      <th>Claim Amount</th>\n",
       "      <th>Status</th>\n",
       "      <th>Close Amount</th>\n",
       "      <th>Disposition</th>\n",
       "    </tr>\n",
       "  </thead>\n",
       "  <tbody>\n",
       "    <tr>\n",
       "      <th>0</th>\n",
       "      <td>0909802M</td>\n",
       "      <td>4-Jan-02</td>\n",
       "      <td>12/12/2002 0:00</td>\n",
       "      <td>EWR</td>\n",
       "      <td>Newark International Airport</td>\n",
       "      <td>Continental Airlines</td>\n",
       "      <td>Property Damage</td>\n",
       "      <td>Checkpoint</td>\n",
       "      <td>Other</td>\n",
       "      <td>$350.00</td>\n",
       "      <td>Approved</td>\n",
       "      <td>$350.00</td>\n",
       "      <td>Approve in Full</td>\n",
       "    </tr>\n",
       "    <tr>\n",
       "      <th>1</th>\n",
       "      <td>0202417M</td>\n",
       "      <td>2-Feb-02</td>\n",
       "      <td>1/16/2004 0:00</td>\n",
       "      <td>SEA</td>\n",
       "      <td>Seattle-Tacoma International</td>\n",
       "      <td>NaN</td>\n",
       "      <td>Property Damage</td>\n",
       "      <td>Checked Baggage</td>\n",
       "      <td>Luggage (all types including footlockers)</td>\n",
       "      <td>$100.00</td>\n",
       "      <td>Settled</td>\n",
       "      <td>$50.00</td>\n",
       "      <td>Settle</td>\n",
       "    </tr>\n",
       "    <tr>\n",
       "      <th>2</th>\n",
       "      <td>0202445M</td>\n",
       "      <td>4-Feb-02</td>\n",
       "      <td>11/26/2003 0:00</td>\n",
       "      <td>STL</td>\n",
       "      <td>Lambert St. Louis International</td>\n",
       "      <td>American Airlines</td>\n",
       "      <td>Property Damage</td>\n",
       "      <td>Checked Baggage</td>\n",
       "      <td>Cell Phones</td>\n",
       "      <td>$278.88</td>\n",
       "      <td>Settled</td>\n",
       "      <td>$227.92</td>\n",
       "      <td>Settle</td>\n",
       "    </tr>\n",
       "    <tr>\n",
       "      <th>3</th>\n",
       "      <td>0909816M</td>\n",
       "      <td>7-Feb-02</td>\n",
       "      <td>1/6/2003 0:00</td>\n",
       "      <td>MIA</td>\n",
       "      <td>Miami International Airport</td>\n",
       "      <td>American Airlines</td>\n",
       "      <td>Property Damage</td>\n",
       "      <td>Checkpoint</td>\n",
       "      <td>Luggage (all types including footlockers)</td>\n",
       "      <td>$50.00</td>\n",
       "      <td>Approved</td>\n",
       "      <td>$50.00</td>\n",
       "      <td>Approve in Full</td>\n",
       "    </tr>\n",
       "    <tr>\n",
       "      <th>4</th>\n",
       "      <td>2005032379513</td>\n",
       "      <td>18-Feb-02</td>\n",
       "      <td>2/5/2005 0:00</td>\n",
       "      <td>MCO</td>\n",
       "      <td>Orlando International Airport</td>\n",
       "      <td>Delta (Song)</td>\n",
       "      <td>Property Damage</td>\n",
       "      <td>Checkpoint</td>\n",
       "      <td>Baby - Strollers; car seats; playpen; etc.</td>\n",
       "      <td>$84.79</td>\n",
       "      <td>Approved</td>\n",
       "      <td>$84.79</td>\n",
       "      <td>Approve in Full</td>\n",
       "    </tr>\n",
       "  </tbody>\n",
       "</table>\n",
       "</div>"
      ],
      "text/plain": [
       "    Claim Number Date Received    Incident Date Airport Code  \\\n",
       "0       0909802M      4-Jan-02  12/12/2002 0:00          EWR   \n",
       "1       0202417M      2-Feb-02   1/16/2004 0:00          SEA   \n",
       "2       0202445M      4-Feb-02  11/26/2003 0:00          STL   \n",
       "3       0909816M      7-Feb-02    1/6/2003 0:00          MIA   \n",
       "4  2005032379513     18-Feb-02    2/5/2005 0:00          MCO   \n",
       "\n",
       "                      Airport Name          Airline Name       Claim Type  \\\n",
       "0     Newark International Airport  Continental Airlines  Property Damage   \n",
       "1     Seattle-Tacoma International                   NaN  Property Damage   \n",
       "2  Lambert St. Louis International     American Airlines  Property Damage   \n",
       "3      Miami International Airport     American Airlines  Property Damage   \n",
       "4    Orlando International Airport          Delta (Song)  Property Damage   \n",
       "\n",
       "        Claim Site                                        Item Claim Amount  \\\n",
       "0       Checkpoint                                       Other     $350.00    \n",
       "1  Checked Baggage   Luggage (all types including footlockers)     $100.00    \n",
       "2  Checked Baggage                                 Cell Phones     $278.88    \n",
       "3       Checkpoint   Luggage (all types including footlockers)      $50.00    \n",
       "4       Checkpoint  Baby - Strollers; car seats; playpen; etc.      $84.79    \n",
       "\n",
       "     Status Close Amount      Disposition  \n",
       "0  Approved     $350.00   Approve in Full  \n",
       "1   Settled      $50.00            Settle  \n",
       "2   Settled     $227.92            Settle  \n",
       "3  Approved      $50.00   Approve in Full  \n",
       "4  Approved      $84.79   Approve in Full  "
      ]
     },
     "execution_count": 177,
     "metadata": {},
     "output_type": "execute_result"
    }
   ],
   "source": [
    "claims = pd.read_csv(r'./Assessment 1 Data Files/tsa_claims2.csv')\n",
    "claims.head()"
   ]
  },
  {
   "cell_type": "markdown",
   "metadata": {},
   "source": [
    "# Examine the data"
   ]
  },
  {
   "cell_type": "code",
   "execution_count": 178,
   "metadata": {},
   "outputs": [
    {
     "name": "stdout",
     "output_type": "stream",
     "text": [
      "<class 'pandas.core.frame.DataFrame'>\n",
      "RangeIndex: 204267 entries, 0 to 204266\n",
      "Data columns (total 13 columns):\n",
      " #   Column         Non-Null Count   Dtype \n",
      "---  ------         --------------   ----- \n",
      " 0   Claim Number   204267 non-null  object\n",
      " 1   Date Received  204004 non-null  object\n",
      " 2   Incident Date  202084 non-null  object\n",
      " 3   Airport Code   195743 non-null  object\n",
      " 4   Airport Name   195743 non-null  object\n",
      " 5   Airline Name   169893 non-null  object\n",
      " 6   Claim Type     196354 non-null  object\n",
      " 7   Claim Site     203527 non-null  object\n",
      " 8   Item           200301 non-null  object\n",
      " 9   Claim Amount   200224 non-null  object\n",
      " 10  Status         204262 non-null  object\n",
      " 11  Close Amount   135315 non-null  object\n",
      " 12  Disposition    131359 non-null  object\n",
      "dtypes: object(13)\n",
      "memory usage: 170.3 MB\n"
     ]
    }
   ],
   "source": [
    "claims.info(memory_usage='deep')"
   ]
  },
  {
   "cell_type": "code",
   "execution_count": 179,
   "metadata": {},
   "outputs": [
    {
     "data": {
      "text/plain": [
       "Claim Number     204258\n",
       "Date Received      4008\n",
       "Incident Date     26808\n",
       "Airport Code        466\n",
       "Airport Name        486\n",
       "Airline Name        319\n",
       "Claim Type           12\n",
       "Claim Site            7\n",
       "Item               4705\n",
       "Claim Amount      36118\n",
       "Status               16\n",
       "Close Amount      17163\n",
       "Disposition           4\n",
       "dtype: int64"
      ]
     },
     "execution_count": 179,
     "metadata": {},
     "output_type": "execute_result"
    }
   ],
   "source": [
    "claims.nunique(dropna=False)"
   ]
  },
  {
   "cell_type": "code",
   "execution_count": 180,
   "metadata": {},
   "outputs": [
    {
     "data": {
      "text/plain": [
       "Claim Number     [0909802M, 0202417M, 0202445M, 0909816M, 20050...\n",
       "Date Received    [4-Jan-02, 2-Feb-02, 4-Feb-02, 7-Feb-02, 18-Fe...\n",
       "Incident Date    [12/12/2002 0:00, 1/16/2004 0:00, 11/26/2003 0...\n",
       "Airport Code     [EWR, SEA, STL, MIA, MCO, CAK, PHL, BWI, PHX, ...\n",
       "Airport Name     [Newark International Airport, Seattle-Tacoma ...\n",
       "Airline Name     [Continental Airlines, nan, American Airlines,...\n",
       "Claim Type       [Property Damage, Passenger Property Loss, nan...\n",
       "Claim Site       [Checkpoint, Checked Baggage, Other, Motor Veh...\n",
       "Item             [Other, Luggage (all types including footlocke...\n",
       "Claim Amount     [$350.00 , $100.00 , $278.88 , $50.00 , $84.79...\n",
       "Status           [Approved, Settled, Canceled, Denied, Insuffic...\n",
       "Close Amount     [$350.00 , $50.00 , $227.92 , $84.79 , $227.00...\n",
       "Disposition                   [Approve in Full, Settle, nan, Deny]\n",
       "dtype: object"
      ]
     },
     "execution_count": 180,
     "metadata": {},
     "output_type": "execute_result"
    }
   ],
   "source": [
    "claims.apply(pd.unique)"
   ]
  },
  {
   "cell_type": "markdown",
   "metadata": {},
   "source": [
    "# Cleaning the Data"
   ]
  },
  {
   "cell_type": "code",
   "execution_count": 181,
   "metadata": {},
   "outputs": [
    {
     "name": "stdout",
     "output_type": "stream",
     "text": [
      "<class 'pandas.core.frame.DataFrame'>\n",
      "RangeIndex: 204267 entries, 0 to 204266\n",
      "Data columns (total 2 columns):\n",
      " #   Column         Non-Null Count   Dtype         \n",
      "---  ------         --------------   -----         \n",
      " 0   Incident Date  201920 non-null  datetime64[ns]\n",
      " 1   Date Received  204004 non-null  datetime64[ns]\n",
      "dtypes: datetime64[ns](2)\n",
      "memory usage: 3.1 MB\n"
     ]
    }
   ],
   "source": [
    "# Changing Date columns to DateTime data type\n",
    "date_cols = ['Incident Date', 'Date Received']\n",
    "claims[date_cols] = claims[date_cols].apply(pd.to_datetime, errors='coerce')\n",
    "claims[date_cols].info()"
   ]
  },
  {
   "cell_type": "code",
   "execution_count": 182,
   "metadata": {},
   "outputs": [
    {
     "data": {
      "text/html": [
       "<div>\n",
       "<style scoped>\n",
       "    .dataframe tbody tr th:only-of-type {\n",
       "        vertical-align: middle;\n",
       "    }\n",
       "\n",
       "    .dataframe tbody tr th {\n",
       "        vertical-align: top;\n",
       "    }\n",
       "\n",
       "    .dataframe thead th {\n",
       "        text-align: right;\n",
       "    }\n",
       "</style>\n",
       "<table border=\"1\" class=\"dataframe\">\n",
       "  <thead>\n",
       "    <tr style=\"text-align: right;\">\n",
       "      <th></th>\n",
       "      <th>ClaimNumber</th>\n",
       "      <th>DateReceived</th>\n",
       "      <th>IncidentDate</th>\n",
       "      <th>AirportCode</th>\n",
       "      <th>AirportName</th>\n",
       "      <th>AirlineName</th>\n",
       "      <th>ClaimType</th>\n",
       "      <th>ClaimSite</th>\n",
       "      <th>Item</th>\n",
       "      <th>ClaimAmount</th>\n",
       "      <th>Status</th>\n",
       "      <th>CloseAmount</th>\n",
       "      <th>Disposition</th>\n",
       "    </tr>\n",
       "  </thead>\n",
       "  <tbody>\n",
       "    <tr>\n",
       "      <th>0</th>\n",
       "      <td>0909802M</td>\n",
       "      <td>2002-01-04</td>\n",
       "      <td>2002-12-12</td>\n",
       "      <td>EWR</td>\n",
       "      <td>Newark International Airport</td>\n",
       "      <td>Continental Airlines</td>\n",
       "      <td>Property Damage</td>\n",
       "      <td>Checkpoint</td>\n",
       "      <td>Other</td>\n",
       "      <td>$350.00</td>\n",
       "      <td>Approved</td>\n",
       "      <td>$350.00</td>\n",
       "      <td>Approve in Full</td>\n",
       "    </tr>\n",
       "    <tr>\n",
       "      <th>1</th>\n",
       "      <td>0202417M</td>\n",
       "      <td>2002-02-02</td>\n",
       "      <td>2004-01-16</td>\n",
       "      <td>SEA</td>\n",
       "      <td>Seattle-Tacoma International</td>\n",
       "      <td>NaN</td>\n",
       "      <td>Property Damage</td>\n",
       "      <td>Checked Baggage</td>\n",
       "      <td>Luggage (all types including footlockers)</td>\n",
       "      <td>$100.00</td>\n",
       "      <td>Settled</td>\n",
       "      <td>$50.00</td>\n",
       "      <td>Settle</td>\n",
       "    </tr>\n",
       "    <tr>\n",
       "      <th>2</th>\n",
       "      <td>0202445M</td>\n",
       "      <td>2002-02-04</td>\n",
       "      <td>2003-11-26</td>\n",
       "      <td>STL</td>\n",
       "      <td>Lambert St. Louis International</td>\n",
       "      <td>American Airlines</td>\n",
       "      <td>Property Damage</td>\n",
       "      <td>Checked Baggage</td>\n",
       "      <td>Cell Phones</td>\n",
       "      <td>$278.88</td>\n",
       "      <td>Settled</td>\n",
       "      <td>$227.92</td>\n",
       "      <td>Settle</td>\n",
       "    </tr>\n",
       "    <tr>\n",
       "      <th>3</th>\n",
       "      <td>0909816M</td>\n",
       "      <td>2002-02-07</td>\n",
       "      <td>2003-01-06</td>\n",
       "      <td>MIA</td>\n",
       "      <td>Miami International Airport</td>\n",
       "      <td>American Airlines</td>\n",
       "      <td>Property Damage</td>\n",
       "      <td>Checkpoint</td>\n",
       "      <td>Luggage (all types including footlockers)</td>\n",
       "      <td>$50.00</td>\n",
       "      <td>Approved</td>\n",
       "      <td>$50.00</td>\n",
       "      <td>Approve in Full</td>\n",
       "    </tr>\n",
       "    <tr>\n",
       "      <th>4</th>\n",
       "      <td>2005032379513</td>\n",
       "      <td>2002-02-18</td>\n",
       "      <td>2005-02-05</td>\n",
       "      <td>MCO</td>\n",
       "      <td>Orlando International Airport</td>\n",
       "      <td>Delta (Song)</td>\n",
       "      <td>Property Damage</td>\n",
       "      <td>Checkpoint</td>\n",
       "      <td>Baby - Strollers; car seats; playpen; etc.</td>\n",
       "      <td>$84.79</td>\n",
       "      <td>Approved</td>\n",
       "      <td>$84.79</td>\n",
       "      <td>Approve in Full</td>\n",
       "    </tr>\n",
       "  </tbody>\n",
       "</table>\n",
       "</div>"
      ],
      "text/plain": [
       "     ClaimNumber DateReceived IncidentDate AirportCode  \\\n",
       "0       0909802M   2002-01-04   2002-12-12         EWR   \n",
       "1       0202417M   2002-02-02   2004-01-16         SEA   \n",
       "2       0202445M   2002-02-04   2003-11-26         STL   \n",
       "3       0909816M   2002-02-07   2003-01-06         MIA   \n",
       "4  2005032379513   2002-02-18   2005-02-05         MCO   \n",
       "\n",
       "                       AirportName           AirlineName        ClaimType  \\\n",
       "0     Newark International Airport  Continental Airlines  Property Damage   \n",
       "1     Seattle-Tacoma International                   NaN  Property Damage   \n",
       "2  Lambert St. Louis International     American Airlines  Property Damage   \n",
       "3      Miami International Airport     American Airlines  Property Damage   \n",
       "4    Orlando International Airport          Delta (Song)  Property Damage   \n",
       "\n",
       "         ClaimSite                                        Item ClaimAmount  \\\n",
       "0       Checkpoint                                       Other    $350.00    \n",
       "1  Checked Baggage   Luggage (all types including footlockers)    $100.00    \n",
       "2  Checked Baggage                                 Cell Phones    $278.88    \n",
       "3       Checkpoint   Luggage (all types including footlockers)     $50.00    \n",
       "4       Checkpoint  Baby - Strollers; car seats; playpen; etc.     $84.79    \n",
       "\n",
       "     Status CloseAmount      Disposition  \n",
       "0  Approved    $350.00   Approve in Full  \n",
       "1   Settled     $50.00            Settle  \n",
       "2   Settled    $227.92            Settle  \n",
       "3  Approved     $50.00   Approve in Full  \n",
       "4  Approved     $84.79   Approve in Full  "
      ]
     },
     "execution_count": 182,
     "metadata": {},
     "output_type": "execute_result"
    }
   ],
   "source": [
    "#Removing White Spaces from Column Names\n",
    "claims.columns = claims.columns.str.replace(' ', '')\n",
    "claims.head()"
   ]
  },
  {
   "cell_type": "code",
   "execution_count": 183,
   "metadata": {},
   "outputs": [
    {
     "name": "stdout",
     "output_type": "stream",
     "text": [
      "<class 'pandas.core.frame.DataFrame'>\n",
      "Int64Index: 116745 entries, 0 to 145141\n",
      "Data columns (total 13 columns):\n",
      " #   Column        Non-Null Count   Dtype         \n",
      "---  ------        --------------   -----         \n",
      " 0   ClaimNumber   116745 non-null  object        \n",
      " 1   DateReceived  116649 non-null  datetime64[ns]\n",
      " 2   IncidentDate  116309 non-null  datetime64[ns]\n",
      " 3   AirportCode   112980 non-null  object        \n",
      " 4   AirportName   112980 non-null  object        \n",
      " 5   AirlineName   91349 non-null   object        \n",
      " 6   ClaimType     111916 non-null  object        \n",
      " 7   ClaimSite     116512 non-null  object        \n",
      " 8   Item          114297 non-null  object        \n",
      " 9   ClaimAmount   116745 non-null  float64       \n",
      " 10  Status        116745 non-null  object        \n",
      " 11  CloseAmount   116745 non-null  float64       \n",
      " 12  Disposition   112808 non-null  object        \n",
      "dtypes: datetime64[ns](2), float64(2), object(9)\n",
      "memory usage: 12.5+ MB\n"
     ]
    }
   ],
   "source": [
    "# Removing $ sign on ClaimAmount and Close Amount, then saving them as floats\n",
    "currency_cols = ['ClaimAmount', 'CloseAmount']\n",
    "\n",
    "#Removing the $ sign\n",
    "claims[currency_cols] = claims[currency_cols].replace('[\\$,]', '', regex=True)\n",
    "\n",
    "#Convert to numeric and drop rows with NaN values\n",
    "claims[currency_cols] = claims[currency_cols].apply(pd.to_numeric, errors='coerce')\n",
    "claims = claims.dropna(subset=currency_cols)\n",
    "\n",
    "# Change the type to float\n",
    "claims[currency_cols] = claims[currency_cols].astype(float, errors='ignore')\n",
    "claims.info()"
   ]
  },
  {
   "cell_type": "code",
   "execution_count": 184,
   "metadata": {},
   "outputs": [
    {
     "data": {
      "text/html": [
       "<div>\n",
       "<style scoped>\n",
       "    .dataframe tbody tr th:only-of-type {\n",
       "        vertical-align: middle;\n",
       "    }\n",
       "\n",
       "    .dataframe tbody tr th {\n",
       "        vertical-align: top;\n",
       "    }\n",
       "\n",
       "    .dataframe thead th {\n",
       "        text-align: right;\n",
       "    }\n",
       "</style>\n",
       "<table border=\"1\" class=\"dataframe\">\n",
       "  <thead>\n",
       "    <tr style=\"text-align: right;\">\n",
       "      <th></th>\n",
       "      <th>ICAOCode</th>\n",
       "      <th>IATACode</th>\n",
       "      <th>AirportName</th>\n",
       "      <th>City</th>\n",
       "      <th>Country</th>\n",
       "      <th>LatitudeDegrees</th>\n",
       "      <th>LatitudeMinutes</th>\n",
       "      <th>LatitudeSeconds</th>\n",
       "      <th>LatitudeDir</th>\n",
       "      <th>LongitudeDegrees</th>\n",
       "      <th>LongitudeMinutes</th>\n",
       "      <th>LongitudeSeconds</th>\n",
       "      <th>LongitudeDirection</th>\n",
       "      <th>Altitude</th>\n",
       "      <th>LatitudeDecimalDegrees</th>\n",
       "      <th>LongitudeDecimalDegrees</th>\n",
       "    </tr>\n",
       "  </thead>\n",
       "  <tbody>\n",
       "    <tr>\n",
       "      <th>0</th>\n",
       "      <td>AYGA</td>\n",
       "      <td>GKA</td>\n",
       "      <td>GOROKA</td>\n",
       "      <td>GOROKA</td>\n",
       "      <td>PAPUA NEW GUINEA</td>\n",
       "      <td>6</td>\n",
       "      <td>4</td>\n",
       "      <td>54</td>\n",
       "      <td>S</td>\n",
       "      <td>145</td>\n",
       "      <td>23</td>\n",
       "      <td>30</td>\n",
       "      <td>E</td>\n",
       "      <td>1610</td>\n",
       "      <td>-6.082</td>\n",
       "      <td>145.392</td>\n",
       "    </tr>\n",
       "    <tr>\n",
       "      <th>1</th>\n",
       "      <td>AYLA</td>\n",
       "      <td>LAE</td>\n",
       "      <td>NaN</td>\n",
       "      <td>LAE</td>\n",
       "      <td>PAPUA NEW GUINEA</td>\n",
       "      <td>0</td>\n",
       "      <td>0</td>\n",
       "      <td>0</td>\n",
       "      <td>U</td>\n",
       "      <td>0</td>\n",
       "      <td>0</td>\n",
       "      <td>0</td>\n",
       "      <td>U</td>\n",
       "      <td>0</td>\n",
       "      <td>0.000</td>\n",
       "      <td>0.000</td>\n",
       "    </tr>\n",
       "    <tr>\n",
       "      <th>2</th>\n",
       "      <td>AYMD</td>\n",
       "      <td>MAG</td>\n",
       "      <td>MADANG</td>\n",
       "      <td>MADANG</td>\n",
       "      <td>PAPUA NEW GUINEA</td>\n",
       "      <td>5</td>\n",
       "      <td>12</td>\n",
       "      <td>25</td>\n",
       "      <td>S</td>\n",
       "      <td>145</td>\n",
       "      <td>47</td>\n",
       "      <td>19</td>\n",
       "      <td>E</td>\n",
       "      <td>7</td>\n",
       "      <td>-5.207</td>\n",
       "      <td>145.789</td>\n",
       "    </tr>\n",
       "    <tr>\n",
       "      <th>3</th>\n",
       "      <td>AYMH</td>\n",
       "      <td>HGU</td>\n",
       "      <td>MOUNT HAGEN</td>\n",
       "      <td>MOUNT HAGEN</td>\n",
       "      <td>PAPUA NEW GUINEA</td>\n",
       "      <td>5</td>\n",
       "      <td>49</td>\n",
       "      <td>34</td>\n",
       "      <td>S</td>\n",
       "      <td>144</td>\n",
       "      <td>17</td>\n",
       "      <td>46</td>\n",
       "      <td>E</td>\n",
       "      <td>1643</td>\n",
       "      <td>-5.826</td>\n",
       "      <td>144.296</td>\n",
       "    </tr>\n",
       "    <tr>\n",
       "      <th>4</th>\n",
       "      <td>AYNZ</td>\n",
       "      <td>LAE</td>\n",
       "      <td>NADZAB</td>\n",
       "      <td>NADZAB</td>\n",
       "      <td>PAPUA NEW GUINEA</td>\n",
       "      <td>6</td>\n",
       "      <td>34</td>\n",
       "      <td>11</td>\n",
       "      <td>S</td>\n",
       "      <td>146</td>\n",
       "      <td>43</td>\n",
       "      <td>34</td>\n",
       "      <td>E</td>\n",
       "      <td>73</td>\n",
       "      <td>-6.570</td>\n",
       "      <td>146.726</td>\n",
       "    </tr>\n",
       "  </tbody>\n",
       "</table>\n",
       "</div>"
      ],
      "text/plain": [
       "  ICAOCode IATACode  AirportName         City           Country  \\\n",
       "0     AYGA      GKA       GOROKA       GOROKA  PAPUA NEW GUINEA   \n",
       "1     AYLA      LAE          NaN          LAE  PAPUA NEW GUINEA   \n",
       "2     AYMD      MAG       MADANG       MADANG  PAPUA NEW GUINEA   \n",
       "3     AYMH      HGU  MOUNT HAGEN  MOUNT HAGEN  PAPUA NEW GUINEA   \n",
       "4     AYNZ      LAE       NADZAB       NADZAB  PAPUA NEW GUINEA   \n",
       "\n",
       "   LatitudeDegrees  LatitudeMinutes  LatitudeSeconds LatitudeDir  \\\n",
       "0                6                4               54           S   \n",
       "1                0                0                0           U   \n",
       "2                5               12               25           S   \n",
       "3                5               49               34           S   \n",
       "4                6               34               11           S   \n",
       "\n",
       "   LongitudeDegrees  LongitudeMinutes  LongitudeSeconds LongitudeDirection  \\\n",
       "0               145                23                30                  E   \n",
       "1                 0                 0                 0                  U   \n",
       "2               145                47                19                  E   \n",
       "3               144                17                46                  E   \n",
       "4               146                43                34                  E   \n",
       "\n",
       "   Altitude  LatitudeDecimalDegrees  LongitudeDecimalDegrees  \n",
       "0      1610                  -6.082                  145.392  \n",
       "1         0                   0.000                    0.000  \n",
       "2         7                  -5.207                  145.789  \n",
       "3      1643                  -5.826                  144.296  \n",
       "4        73                  -6.570                  146.726  "
      ]
     },
     "execution_count": 184,
     "metadata": {},
     "output_type": "execute_result"
    }
   ],
   "source": [
    "#getting the Airport data to fill in the missing data\n",
    "airports = pd.read_csv(r'./Assessment 1 Data Files/GlobalAirportDatabase.csv')\n",
    "airports.head()"
   ]
  },
  {
   "cell_type": "code",
   "execution_count": 185,
   "metadata": {
    "vscode": {
     "languageId": "powershell"
    }
   },
   "outputs": [
    {
     "name": "stdout",
     "output_type": "stream",
     "text": [
      "<class 'pandas.core.frame.DataFrame'>\n",
      "Int64Index: 116745 entries, 0 to 145141\n",
      "Data columns (total 13 columns):\n",
      " #   Column        Non-Null Count   Dtype         \n",
      "---  ------        --------------   -----         \n",
      " 0   ClaimNumber   116745 non-null  object        \n",
      " 1   DateReceived  116649 non-null  datetime64[ns]\n",
      " 2   IncidentDate  116309 non-null  datetime64[ns]\n",
      " 3   AirportCode   112980 non-null  object        \n",
      " 4   AirportName   116525 non-null  object        \n",
      " 5   AirlineName   91349 non-null   object        \n",
      " 6   ClaimType     111916 non-null  object        \n",
      " 7   ClaimSite     116512 non-null  object        \n",
      " 8   Item          114297 non-null  object        \n",
      " 9   ClaimAmount   116745 non-null  float64       \n",
      " 10  Status        116745 non-null  object        \n",
      " 11  CloseAmount   116745 non-null  float64       \n",
      " 12  Disposition   112808 non-null  object        \n",
      "dtypes: datetime64[ns](2), float64(2), object(9)\n",
      "memory usage: 12.5+ MB\n"
     ]
    }
   ],
   "source": [
    "\n",
    "# Getting Airport Code values (except nulls) from claims DataFrame\n",
    "claims_airportCodes = claims[claims['AirportCode'].notnull()]\n",
    "\n",
    "# Combined airport codes and IATACodes and AirportNames from airports DataFrame, so we can match and fill missing information based on AirportCode\n",
    "merged = pd.merge(claims_airportCodes, airports[['IATACode', 'AirportName']], \n",
    "                          how='left', left_on='AirportCode', right_on='IATACode')\n",
    "\n",
    "# Fill missing AirportName in claims based on AirportCode. AirportName_y is the column name of AirportName from airports DataFrame\n",
    "claims['AirportName'] = claims['AirportName'].fillna(\n",
    "    merged_df_code['AirportName_y'] \n",
    ")\n",
    "\n",
    "claims.info()"
   ]
  },
  {
   "cell_type": "code",
   "execution_count": 186,
   "metadata": {},
   "outputs": [
    {
     "name": "stdout",
     "output_type": "stream",
     "text": [
      "<class 'pandas.core.frame.DataFrame'>\n",
      "Int64Index: 116745 entries, 0 to 145141\n",
      "Data columns (total 13 columns):\n",
      " #   Column        Non-Null Count   Dtype         \n",
      "---  ------        --------------   -----         \n",
      " 0   ClaimNumber   116745 non-null  object        \n",
      " 1   DateReceived  116649 non-null  datetime64[ns]\n",
      " 2   IncidentDate  116309 non-null  datetime64[ns]\n",
      " 3   AirportCode   113230 non-null  object        \n",
      " 4   AirportName   116525 non-null  object        \n",
      " 5   AirlineName   91349 non-null   object        \n",
      " 6   ClaimType     111916 non-null  object        \n",
      " 7   ClaimSite     116512 non-null  object        \n",
      " 8   Item          114297 non-null  object        \n",
      " 9   ClaimAmount   116745 non-null  float64       \n",
      " 10  Status        116745 non-null  object        \n",
      " 11  CloseAmount   116745 non-null  float64       \n",
      " 12  Disposition   112808 non-null  object        \n",
      "dtypes: datetime64[ns](2), float64(2), object(9)\n",
      "memory usage: 12.5+ MB\n"
     ]
    }
   ],
   "source": [
    "# getting rows where AirportCode is missing, but AirportName is available\n",
    "claims_airportNames = claims[claims['AirportCode'].isnull() & claims['AirportName'].notnull()]\n",
    "\n",
    "# Combined AirportNames(from clims) and IATACodes and AirportNames from airports DataFrame, so we can match and fill missing information based on AirportName (from airports)\n",
    "merged_df_name = pd.merge(claims_airportNames, airports[['IATACode', 'AirportName']], \n",
    "                          how='left', left_on='AirportName', right_on='AirportName')\n",
    "\n",
    "# Fill missing AirportCode in claims based on IATACode from airports dataFrame\n",
    "claims['AirportCode'] = claims['AirportCode'].fillna(\n",
    "    merged_df_name['IATACode']\n",
    ")\n",
    "\n",
    "claims.info()"
   ]
  },
  {
   "cell_type": "code",
   "execution_count": 187,
   "metadata": {},
   "outputs": [
    {
     "data": {
      "text/plain": [
       "0"
      ]
     },
     "execution_count": 187,
     "metadata": {},
     "output_type": "execute_result"
    }
   ],
   "source": [
    "#I assume ClaimNumber is the identifier (Primary Key), so I will check for duplicates (There should be no duplicates)\n",
    "claims.duplicated(subset=['ClaimNumber']).sum()\n"
   ]
  },
  {
   "cell_type": "markdown",
   "metadata": {},
   "source": [
    "# Task 1\n",
    "###  What is the most common type of insurance claim?\n"
   ]
  },
  {
   "cell_type": "code",
   "execution_count": 188,
   "metadata": {},
   "outputs": [
    {
     "data": {
      "text/plain": [
       "Passenger Property Loss    65238\n",
       "Property Damage            45708\n",
       "NaN                         4829\n",
       "Employee Loss (MPCECA)       389\n",
       "Passenger Theft              379\n",
       "Personal Injury              147\n",
       "Motor Vehicle                 55\n",
       "Name: ClaimType, dtype: int64"
      ]
     },
     "execution_count": 188,
     "metadata": {},
     "output_type": "execute_result"
    }
   ],
   "source": [
    "#Checking the ClaimType column\n",
    "claims['ClaimType'].value_counts(dropna=False)"
   ]
  },
  {
   "cell_type": "code",
   "execution_count": 197,
   "metadata": {},
   "outputs": [
    {
     "data": {
      "text/plain": [
       "[Text(0.5, 1.0, 'Types of Insurance Claims')]"
      ]
     },
     "execution_count": 197,
     "metadata": {},
     "output_type": "execute_result"
    },
    {
     "data": {
      "image/png": "[encoded data removed]",
      "text/plain": [
       "<Figure size 432x288 with 1 Axes>"
      ]
     },
     "metadata": {
      "needs_background": "light"
     },
     "output_type": "display_data"
    }
   ],
   "source": [
    "#excluding Null values to find the most common type of insurance claim\n",
    "claim_type = claims['ClaimType'].value_counts(dropna=True)\n",
    "\n",
    "#plotting a barplot\n",
    "ax = sns.barplot(y=claim_type.index, x=claim_type.values, palette='bright')\n",
    "#Adding the title\n",
    "ax.set(title = 'Types of Insurance Claims')"
   ]
  },
  {
   "cell_type": "markdown",
   "metadata": {},
   "source": [
    "# Task 2\n",
    "### Which claim site within the airport are claims most commonly filed for?"
   ]
  },
  {
   "cell_type": "code",
   "execution_count": 199,
   "metadata": {},
   "outputs": [
    {
     "name": "stdout",
     "output_type": "stream",
     "text": [
      "<class 'pandas.core.frame.DataFrame'>\n",
      "Int64Index: 116745 entries, 0 to 145141\n",
      "Data columns (total 13 columns):\n",
      " #   Column        Non-Null Count   Dtype         \n",
      "---  ------        --------------   -----         \n",
      " 0   ClaimNumber   116745 non-null  object        \n",
      " 1   DateReceived  116649 non-null  datetime64[ns]\n",
      " 2   IncidentDate  116309 non-null  datetime64[ns]\n",
      " 3   AirportCode   113230 non-null  object        \n",
      " 4   AirportName   116525 non-null  object        \n",
      " 5   AirlineName   91349 non-null   object        \n",
      " 6   ClaimType     111916 non-null  object        \n",
      " 7   ClaimSite     116512 non-null  object        \n",
      " 8   Item          114297 non-null  object        \n",
      " 9   ClaimAmount   116745 non-null  float64       \n",
      " 10  Status        116745 non-null  object        \n",
      " 11  CloseAmount   116745 non-null  float64       \n",
      " 12  Disposition   112808 non-null  object        \n",
      "dtypes: datetime64[ns](2), float64(2), object(9)\n",
      "memory usage: 12.5+ MB\n"
     ]
    }
   ],
   "source": [
    "claims.info()"
   ]
  },
  {
   "cell_type": "code",
   "execution_count": 198,
   "metadata": {},
   "outputs": [
    {
     "data": {
      "text/plain": [
       "Checked Baggage    95770\n",
       "Checkpoint         19836\n",
       "Other                843\n",
       "NaN                  233\n",
       "Motor Vehicle         62\n",
       "Bus Station            1\n",
       "Name: ClaimSite, dtype: int64"
      ]
     },
     "execution_count": 198,
     "metadata": {},
     "output_type": "execute_result"
    }
   ],
   "source": [
    "claims['ClaimSite'].value_counts(dropna=False)"
   ]
  },
  {
   "cell_type": "code",
   "execution_count": 200,
   "metadata": {},
   "outputs": [
    {
     "data": {
      "text/plain": [
       "ClaimNumber     116745\n",
       "DateReceived      2082\n",
       "IncidentDate      3944\n",
       "AirportCode        423\n",
       "AirportName        559\n",
       "AirlineName        189\n",
       "ClaimType            7\n",
       "ClaimSite            6\n",
       "Item              2520\n",
       "ClaimAmount      24692\n",
       "Status               5\n",
       "CloseAmount      14522\n",
       "Disposition          4\n",
       "dtype: int64"
      ]
     },
     "execution_count": 200,
     "metadata": {},
     "output_type": "execute_result"
    }
   ],
   "source": [
    "claims.nunique(dropna=False)"
   ]
  },
  {
   "cell_type": "code",
   "execution_count": 211,
   "metadata": {},
   "outputs": [
    {
     "data": {
      "text/plain": [
       "[Text(0.5, 1.0, 'Most Common Claim Site'),\n",
       " Text(0.5, 0, 'Count'),\n",
       " Text(0, 0.5, 'Claim Site')]"
      ]
     },
     "execution_count": 211,
     "metadata": {},
     "output_type": "execute_result"
    },
    {
     "data": {
      "image/png": "[encoded data removed]",
      "text/plain": [
       "<Figure size 432x288 with 1 Axes>"
      ]
     },
     "metadata": {
      "needs_background": "light"
     },
     "output_type": "display_data"
    }
   ],
   "source": [
    "#excluding Null values to find the most common type of insurance claim\n",
    "claim_site = claims['ClaimSite'].value_counts(dropna=True)\n",
    "\n",
    "#plotting a barplot\n",
    "ax = sns.barplot(y=claim_site.index, x=claim_site.values, palette='bright', orient='h')\n",
    "#Adding the title\n",
    "ax.set(title = 'Most Common Claim Site', xlabel='Count', ylabel='Claim Site')"
   ]
  }
 ],
 "metadata": {
  "kernelspec": {
   "display_name": "base",
   "language": "python",
   "name": "python3"
  },
  "language_info": {
   "codemirror_mode": {
    "name": "ipython",
    "version": 3
   },
   "file_extension": ".py",
   "mimetype": "text/x-python",
   "name": "python",
   "nbconvert_exporter": "python",
   "pygments_lexer": "ipython3",
   "version": "3.9.7"
  }
 },
 "nbformat": 4,
 "nbformat_minor": 2
}
